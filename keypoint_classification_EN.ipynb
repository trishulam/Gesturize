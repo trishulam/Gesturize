{
 "cells": [
  {
   "cell_type": "code",
   "execution_count": 77,
   "metadata": {
    "id": "igMyGnjE9hEp"
   },
   "outputs": [],
   "source": [
    "import csv\n",
    "\n",
    "import numpy as np\n",
    "import tensorflow as tf\n",
    "from sklearn.model_selection import train_test_split\n",
    "\n",
    "\n",
    "RANDOM_SEED = 42"
   ]
  },
  {
   "cell_type": "markdown",
   "metadata": {
    "id": "t2HDvhIu9hEr"
   },
   "source": [
    "# Specify each path"
   ]
  },
  {
   "cell_type": "code",
   "execution_count": 78,
   "metadata": {
    "id": "9NvZP2Zn9hEy"
   },
   "outputs": [],
   "source": [
    "dataset = 'model/keypoint_classifier/keypoint.csv'\n",
    "model_save_path = 'model/keypoint_classifier/keypoint_classifier.hdf5'\n",
    "tflite_save_path = 'model/keypoint_classifier/keypoint_classifier.tflite'"
   ]
  },
  {
   "cell_type": "markdown",
   "metadata": {},
   "source": []
  },
  {
   "cell_type": "markdown",
   "metadata": {
    "id": "s5oMH7x19hEz"
   },
   "source": [
    "# Set number of classes"
   ]
  },
  {
   "cell_type": "code",
   "execution_count": 79,
   "metadata": {
    "id": "du4kodXL9hEz"
   },
   "outputs": [],
   "source": [
    "NUM_CLASSES = 10"
   ]
  },
  {
   "cell_type": "markdown",
   "metadata": {
    "id": "XjnL0uso9hEz"
   },
   "source": [
    "# Dataset reading"
   ]
  },
  {
   "cell_type": "code",
   "execution_count": 80,
   "metadata": {
    "id": "QT5ZqtEz9hE0"
   },
   "outputs": [],
   "source": [
    "X_dataset = np.loadtxt(dataset, delimiter=',', dtype='float32', usecols=list(range(1, (21 * 2) + 1)))"
   ]
  },
  {
   "cell_type": "code",
   "execution_count": 81,
   "metadata": {
    "id": "QmoKFsp49hE0"
   },
   "outputs": [],
   "source": [
    "y_dataset = np.loadtxt(dataset, delimiter=',', dtype='int32', usecols=(0))"
   ]
  },
  {
   "cell_type": "code",
   "execution_count": 82,
   "metadata": {
    "id": "xQU7JTZ_9hE0"
   },
   "outputs": [],
   "source": [
    "X_train, X_test, y_train, y_test = train_test_split(X_dataset, y_dataset, train_size=0.75, random_state=RANDOM_SEED)"
   ]
  },
  {
   "cell_type": "markdown",
   "metadata": {
    "id": "mxK_lETT9hE0"
   },
   "source": [
    "# Model building"
   ]
  },
  {
   "cell_type": "code",
   "execution_count": null,
   "metadata": {},
   "outputs": [],
   "source": []
  },
  {
   "cell_type": "code",
   "execution_count": 83,
   "metadata": {
    "id": "vHBmUf1t9hE1"
   },
   "outputs": [],
   "source": [
    "model = tf.keras.models.Sequential([\n",
    "    tf.keras.layers.Input((21 * 2, )),\n",
    "    tf.keras.layers.Dropout(0.2),\n",
    "    tf.keras.layers.Dense(20, activation='relu'),\n",
    "    tf.keras.layers.Dropout(0.4),\n",
    "    tf.keras.layers.Dense(10, activation='relu'),\n",
    "    tf.keras.layers.Dense(NUM_CLASSES, activation='softmax')\n",
    "])"
   ]
  },
  {
   "cell_type": "code",
   "execution_count": null,
   "metadata": {},
   "outputs": [],
   "source": []
  },
  {
   "cell_type": "code",
   "execution_count": 84,
   "metadata": {
    "colab": {
     "base_uri": "https://localhost:8080/"
    },
    "id": "ypqky9tc9hE1",
    "outputId": "5db082bb-30e3-4110-bf63-a1ee777ecd46"
   },
   "outputs": [
    {
     "name": "stdout",
     "output_type": "stream",
     "text": [
      "Model: \"sequential_4\"\n",
      "_________________________________________________________________\n",
      " Layer (type)                Output Shape              Param #   \n",
      "=================================================================\n",
      " dropout_8 (Dropout)         (None, 42)                0         \n",
      "                                                                 \n",
      " dense_12 (Dense)            (None, 20)                860       \n",
      "                                                                 \n",
      " dropout_9 (Dropout)         (None, 20)                0         \n",
      "                                                                 \n",
      " dense_13 (Dense)            (None, 10)                210       \n",
      "                                                                 \n",
      " dense_14 (Dense)            (None, 9)                 99        \n",
      "                                                                 \n",
      "=================================================================\n",
      "Total params: 1169 (4.57 KB)\n",
      "Trainable params: 1169 (4.57 KB)\n",
      "Non-trainable params: 0 (0.00 Byte)\n",
      "_________________________________________________________________\n"
     ]
    }
   ],
   "source": [
    "model.summary()  # tf.keras.utils.plot_model(model, show_shapes=True)"
   ]
  },
  {
   "cell_type": "code",
   "execution_count": 85,
   "metadata": {
    "id": "MbMjOflQ9hE1"
   },
   "outputs": [],
   "source": [
    "# Model checkpoint callback\n",
    "cp_callback = tf.keras.callbacks.ModelCheckpoint(\n",
    "    model_save_path, verbose=1, save_weights_only=False)\n",
    "# Callback for early stopping\n",
    "es_callback = tf.keras.callbacks.EarlyStopping(patience=20, verbose=1)"
   ]
  },
  {
   "cell_type": "code",
   "execution_count": 86,
   "metadata": {
    "id": "c3Dac0M_9hE2"
   },
   "outputs": [],
   "source": [
    "# Model compilation\n",
    "model.compile(\n",
    "    optimizer='adam',\n",
    "    loss='sparse_categorical_crossentropy',\n",
    "    metrics=['accuracy']\n",
    ")"
   ]
  },
  {
   "cell_type": "markdown",
   "metadata": {
    "id": "7XI0j1Iu9hE2"
   },
   "source": [
    "# Model training"
   ]
  },
  {
   "cell_type": "code",
   "execution_count": 87,
   "metadata": {
    "colab": {
     "base_uri": "https://localhost:8080/"
    },
    "id": "WirBl-JE9hE3",
    "outputId": "71b30ca2-8294-4d9d-8aa2-800d90d399de",
    "scrolled": true
   },
   "outputs": [
    {
     "name": "stdout",
     "output_type": "stream",
     "text": [
      "Epoch 1/1000\n",
      " 1/37 [..............................] - ETA: 8s - loss: 2.3059 - accuracy: 0.0312\n",
      "Epoch 1: saving model to model/keypoint_classifier/keypoint_classifier.hdf5\n",
      "37/37 [==============================] - 0s 3ms/step - loss: 2.1973 - accuracy: 0.1467 - val_loss: 2.0799 - val_accuracy: 0.3186\n",
      "Epoch 2/1000\n",
      " 1/37 [..............................] - ETA: 0s - loss: 2.1011 - accuracy: 0.2188\n",
      "Epoch 2: saving model to model/keypoint_classifier/keypoint_classifier.hdf5\n",
      "37/37 [==============================] - 0s 1ms/step - loss: 2.0279 - accuracy: 0.2795 - val_loss: 1.8907 - val_accuracy: 0.3742\n",
      "Epoch 3/1000\n",
      " 1/37 [..............................] - ETA: 0s - loss: 1.9751 - accuracy: 0.2656\n",
      "Epoch 3: saving model to model/keypoint_classifier/keypoint_classifier.hdf5\n",
      "37/37 [==============================] - 0s 1ms/step - loss: 1.8643 - accuracy: 0.3282 - val_loss: 1.6856 - val_accuracy: 0.4713\n",
      "Epoch 4/1000\n",
      " 1/37 [..............................] - ETA: 0s - loss: 1.8176 - accuracy: 0.3750\n",
      "Epoch 4: saving model to model/keypoint_classifier/keypoint_classifier.hdf5\n",
      "37/37 [==============================] - 0s 1ms/step - loss: 1.7341 - accuracy: 0.3716 - val_loss: 1.5502 - val_accuracy: 0.5587\n",
      "Epoch 5/1000\n",
      " 1/37 [..............................] - ETA: 0s - loss: 1.5125 - accuracy: 0.4453\n",
      "Epoch 5: saving model to model/keypoint_classifier/keypoint_classifier.hdf5\n",
      "37/37 [==============================] - 0s 1ms/step - loss: 1.6363 - accuracy: 0.4000 - val_loss: 1.4447 - val_accuracy: 0.5996\n",
      "Epoch 6/1000\n",
      " 1/37 [..............................] - ETA: 0s - loss: 1.5355 - accuracy: 0.5078"
     ]
    },
    {
     "name": "stderr",
     "output_type": "stream",
     "text": [
      "/Users/vamsi/Documents/GitHub/NUS-GAIP-v3/env/lib/python3.11/site-packages/keras/src/engine/training.py:3000: UserWarning: You are saving your model as an HDF5 file via `model.save()`. This file format is considered legacy. We recommend using instead the native Keras format, e.g. `model.save('my_model.keras')`.\n",
      "  saving_api.save_model(\n"
     ]
    },
    {
     "name": "stdout",
     "output_type": "stream",
     "text": [
      "\n",
      "Epoch 6: saving model to model/keypoint_classifier/keypoint_classifier.hdf5\n",
      "37/37 [==============================] - 0s 2ms/step - loss: 1.5716 - accuracy: 0.4193 - val_loss: 1.3655 - val_accuracy: 0.6022\n",
      "Epoch 7/1000\n",
      " 1/37 [..............................] - ETA: 0s - loss: 1.4984 - accuracy: 0.4766\n",
      "Epoch 7: saving model to model/keypoint_classifier/keypoint_classifier.hdf5\n",
      "37/37 [==============================] - 0s 1ms/step - loss: 1.5286 - accuracy: 0.4364 - val_loss: 1.2976 - val_accuracy: 0.6367\n",
      "Epoch 8/1000\n",
      " 1/37 [..............................] - ETA: 0s - loss: 1.5389 - accuracy: 0.4297\n",
      "Epoch 8: saving model to model/keypoint_classifier/keypoint_classifier.hdf5\n",
      "37/37 [==============================] - 0s 1ms/step - loss: 1.4761 - accuracy: 0.4500 - val_loss: 1.2382 - val_accuracy: 0.6731\n",
      "Epoch 9/1000\n",
      " 1/37 [..............................] - ETA: 0s - loss: 1.3981 - accuracy: 0.4219\n",
      "Epoch 9: saving model to model/keypoint_classifier/keypoint_classifier.hdf5\n",
      "37/37 [==============================] - 0s 2ms/step - loss: 1.4271 - accuracy: 0.4672 - val_loss: 1.1798 - val_accuracy: 0.6794\n",
      "Epoch 10/1000\n",
      " 1/37 [..............................] - ETA: 0s - loss: 1.4753 - accuracy: 0.4531\n",
      "Epoch 10: saving model to model/keypoint_classifier/keypoint_classifier.hdf5\n",
      "37/37 [==============================] - 0s 2ms/step - loss: 1.3838 - accuracy: 0.4894 - val_loss: 1.1320 - val_accuracy: 0.6814\n",
      "Epoch 11/1000\n",
      "22/37 [================>.............] - ETA: 0s - loss: 1.3688 - accuracy: 0.5039\n",
      "Epoch 11: saving model to model/keypoint_classifier/keypoint_classifier.hdf5\n",
      "37/37 [==============================] - 0s 3ms/step - loss: 1.3471 - accuracy: 0.5130 - val_loss: 1.0782 - val_accuracy: 0.6820\n",
      "Epoch 12/1000\n",
      " 1/37 [..............................] - ETA: 0s - loss: 1.2182 - accuracy: 0.5781\n",
      "Epoch 12: saving model to model/keypoint_classifier/keypoint_classifier.hdf5\n",
      "37/37 [==============================] - 0s 2ms/step - loss: 1.3119 - accuracy: 0.5200 - val_loss: 1.0398 - val_accuracy: 0.6935\n",
      "Epoch 13/1000\n",
      " 1/37 [..............................] - ETA: 0s - loss: 1.2972 - accuracy: 0.4844\n",
      "Epoch 13: saving model to model/keypoint_classifier/keypoint_classifier.hdf5\n",
      "37/37 [==============================] - 0s 1ms/step - loss: 1.3008 - accuracy: 0.5215 - val_loss: 1.0085 - val_accuracy: 0.7107\n",
      "Epoch 14/1000\n",
      " 1/37 [..............................] - ETA: 0s - loss: 1.2962 - accuracy: 0.5312\n",
      "Epoch 14: saving model to model/keypoint_classifier/keypoint_classifier.hdf5\n",
      "37/37 [==============================] - 0s 1ms/step - loss: 1.2844 - accuracy: 0.5241 - val_loss: 0.9802 - val_accuracy: 0.7344\n",
      "Epoch 15/1000\n",
      " 1/37 [..............................] - ETA: 0s - loss: 1.2020 - accuracy: 0.5391\n",
      "Epoch 15: saving model to model/keypoint_classifier/keypoint_classifier.hdf5\n",
      "37/37 [==============================] - 0s 1ms/step - loss: 1.2505 - accuracy: 0.5456 - val_loss: 0.9500 - val_accuracy: 0.7350\n",
      "Epoch 16/1000\n",
      " 1/37 [..............................] - ETA: 0s - loss: 1.2777 - accuracy: 0.5781\n",
      "Epoch 16: saving model to model/keypoint_classifier/keypoint_classifier.hdf5\n",
      "37/37 [==============================] - 0s 1ms/step - loss: 1.2425 - accuracy: 0.5494 - val_loss: 0.9265 - val_accuracy: 0.7484\n",
      "Epoch 17/1000\n",
      " 1/37 [..............................] - ETA: 0s - loss: 1.2156 - accuracy: 0.5391\n",
      "Epoch 17: saving model to model/keypoint_classifier/keypoint_classifier.hdf5\n",
      "37/37 [==============================] - 0s 1ms/step - loss: 1.2164 - accuracy: 0.5585 - val_loss: 0.9072 - val_accuracy: 0.7676\n",
      "Epoch 18/1000\n",
      " 1/37 [..............................] - ETA: 0s - loss: 1.2392 - accuracy: 0.5312\n",
      "Epoch 18: saving model to model/keypoint_classifier/keypoint_classifier.hdf5\n",
      "37/37 [==============================] - 0s 1ms/step - loss: 1.1952 - accuracy: 0.5658 - val_loss: 0.8739 - val_accuracy: 0.7669\n",
      "Epoch 19/1000\n",
      " 1/37 [..............................] - ETA: 0s - loss: 1.2831 - accuracy: 0.5391\n",
      "Epoch 19: saving model to model/keypoint_classifier/keypoint_classifier.hdf5\n",
      "37/37 [==============================] - 0s 1ms/step - loss: 1.1706 - accuracy: 0.5745 - val_loss: 0.8561 - val_accuracy: 0.7759\n",
      "Epoch 20/1000\n",
      " 1/37 [..............................] - ETA: 0s - loss: 1.2241 - accuracy: 0.5938\n",
      "Epoch 20: saving model to model/keypoint_classifier/keypoint_classifier.hdf5\n",
      "37/37 [==============================] - 0s 1ms/step - loss: 1.1514 - accuracy: 0.5909 - val_loss: 0.8317 - val_accuracy: 0.7816\n",
      "Epoch 21/1000\n",
      " 1/37 [..............................] - ETA: 0s - loss: 1.1339 - accuracy: 0.5859\n",
      "Epoch 21: saving model to model/keypoint_classifier/keypoint_classifier.hdf5\n",
      "37/37 [==============================] - 0s 1ms/step - loss: 1.1354 - accuracy: 0.5898 - val_loss: 0.8079 - val_accuracy: 0.7854\n",
      "Epoch 22/1000\n",
      " 1/37 [..............................] - ETA: 0s - loss: 1.2734 - accuracy: 0.5391\n",
      "Epoch 22: saving model to model/keypoint_classifier/keypoint_classifier.hdf5\n",
      "37/37 [==============================] - 0s 1ms/step - loss: 1.1434 - accuracy: 0.5849 - val_loss: 0.7963 - val_accuracy: 0.7886\n",
      "Epoch 23/1000\n",
      " 1/37 [..............................] - ETA: 0s - loss: 1.1577 - accuracy: 0.5781\n",
      "Epoch 23: saving model to model/keypoint_classifier/keypoint_classifier.hdf5\n",
      "37/37 [==============================] - 0s 1ms/step - loss: 1.1147 - accuracy: 0.5960 - val_loss: 0.7768 - val_accuracy: 0.7963\n",
      "Epoch 24/1000\n",
      " 1/37 [..............................] - ETA: 0s - loss: 1.2046 - accuracy: 0.5547\n",
      "Epoch 24: saving model to model/keypoint_classifier/keypoint_classifier.hdf5\n",
      "37/37 [==============================] - 0s 1ms/step - loss: 1.1259 - accuracy: 0.5930 - val_loss: 0.7690 - val_accuracy: 0.8059\n",
      "Epoch 25/1000\n",
      " 1/37 [..............................] - ETA: 0s - loss: 1.2267 - accuracy: 0.5391\n",
      "Epoch 25: saving model to model/keypoint_classifier/keypoint_classifier.hdf5\n",
      "37/37 [==============================] - 0s 1ms/step - loss: 1.0992 - accuracy: 0.5975 - val_loss: 0.7491 - val_accuracy: 0.8084\n",
      "Epoch 26/1000\n",
      " 1/37 [..............................] - ETA: 0s - loss: 1.1274 - accuracy: 0.6094\n",
      "Epoch 26: saving model to model/keypoint_classifier/keypoint_classifier.hdf5\n",
      "37/37 [==============================] - 0s 1ms/step - loss: 1.0986 - accuracy: 0.6047 - val_loss: 0.7392 - val_accuracy: 0.8116\n",
      "Epoch 27/1000\n",
      " 1/37 [..............................] - ETA: 0s - loss: 1.0376 - accuracy: 0.6172\n",
      "Epoch 27: saving model to model/keypoint_classifier/keypoint_classifier.hdf5\n",
      "37/37 [==============================] - 0s 1ms/step - loss: 1.0766 - accuracy: 0.6073 - val_loss: 0.7264 - val_accuracy: 0.8135\n",
      "Epoch 28/1000\n",
      " 1/37 [..............................] - ETA: 0s - loss: 1.0697 - accuracy: 0.6250\n",
      "Epoch 28: saving model to model/keypoint_classifier/keypoint_classifier.hdf5\n",
      "37/37 [==============================] - 0s 1ms/step - loss: 1.0731 - accuracy: 0.6158 - val_loss: 0.7099 - val_accuracy: 0.8180\n",
      "Epoch 29/1000\n",
      " 1/37 [..............................] - ETA: 0s - loss: 0.9851 - accuracy: 0.6562\n",
      "Epoch 29: saving model to model/keypoint_classifier/keypoint_classifier.hdf5\n",
      "37/37 [==============================] - 0s 1ms/step - loss: 1.0754 - accuracy: 0.6141 - val_loss: 0.6962 - val_accuracy: 0.8193\n",
      "Epoch 30/1000\n",
      " 1/37 [..............................] - ETA: 0s - loss: 0.9498 - accuracy: 0.6484\n",
      "Epoch 30: saving model to model/keypoint_classifier/keypoint_classifier.hdf5\n",
      "37/37 [==============================] - 0s 1ms/step - loss: 1.0727 - accuracy: 0.6130 - val_loss: 0.6876 - val_accuracy: 0.8257\n",
      "Epoch 31/1000\n",
      " 1/37 [..............................] - ETA: 0s - loss: 0.9528 - accuracy: 0.6641\n",
      "Epoch 31: saving model to model/keypoint_classifier/keypoint_classifier.hdf5\n",
      "37/37 [==============================] - 0s 1ms/step - loss: 1.0658 - accuracy: 0.6088 - val_loss: 0.6771 - val_accuracy: 0.8257\n",
      "Epoch 32/1000\n",
      "36/37 [============================>.] - ETA: 0s - loss: 1.0394 - accuracy: 0.6243\n",
      "Epoch 32: saving model to model/keypoint_classifier/keypoint_classifier.hdf5\n",
      "37/37 [==============================] - 0s 3ms/step - loss: 1.0416 - accuracy: 0.6235 - val_loss: 0.6670 - val_accuracy: 0.8295\n",
      "Epoch 33/1000\n",
      " 1/37 [..............................] - ETA: 0s - loss: 1.0213 - accuracy: 0.6094\n",
      "Epoch 33: saving model to model/keypoint_classifier/keypoint_classifier.hdf5\n",
      "37/37 [==============================] - 0s 2ms/step - loss: 1.0330 - accuracy: 0.6290 - val_loss: 0.6554 - val_accuracy: 0.8289\n",
      "Epoch 34/1000\n",
      " 1/37 [..............................] - ETA: 0s - loss: 1.2046 - accuracy: 0.5078\n",
      "Epoch 34: saving model to model/keypoint_classifier/keypoint_classifier.hdf5\n",
      "37/37 [==============================] - 0s 1ms/step - loss: 1.0376 - accuracy: 0.6215 - val_loss: 0.6505 - val_accuracy: 0.8263\n",
      "Epoch 35/1000\n",
      " 1/37 [..............................] - ETA: 0s - loss: 0.8997 - accuracy: 0.6641\n",
      "Epoch 35: saving model to model/keypoint_classifier/keypoint_classifier.hdf5\n",
      "37/37 [==============================] - 0s 1ms/step - loss: 1.0244 - accuracy: 0.6309 - val_loss: 0.6449 - val_accuracy: 0.8321\n",
      "Epoch 36/1000\n",
      " 1/37 [..............................] - ETA: 0s - loss: 1.0240 - accuracy: 0.5938\n",
      "Epoch 36: saving model to model/keypoint_classifier/keypoint_classifier.hdf5\n",
      "37/37 [==============================] - 0s 1ms/step - loss: 1.0164 - accuracy: 0.6279 - val_loss: 0.6254 - val_accuracy: 0.8346\n",
      "Epoch 37/1000\n",
      " 1/37 [..............................] - ETA: 0s - loss: 0.9651 - accuracy: 0.6641\n",
      "Epoch 37: saving model to model/keypoint_classifier/keypoint_classifier.hdf5\n",
      "37/37 [==============================] - 0s 1ms/step - loss: 1.0120 - accuracy: 0.6341 - val_loss: 0.6211 - val_accuracy: 0.8359\n",
      "Epoch 38/1000\n",
      " 1/37 [..............................] - ETA: 0s - loss: 1.0532 - accuracy: 0.6172\n",
      "Epoch 38: saving model to model/keypoint_classifier/keypoint_classifier.hdf5\n",
      "37/37 [==============================] - 0s 1ms/step - loss: 1.0058 - accuracy: 0.6398 - val_loss: 0.6093 - val_accuracy: 0.8378\n",
      "Epoch 39/1000\n",
      " 1/37 [..............................] - ETA: 0s - loss: 1.0642 - accuracy: 0.6016\n",
      "Epoch 39: saving model to model/keypoint_classifier/keypoint_classifier.hdf5\n",
      "37/37 [==============================] - 0s 2ms/step - loss: 1.0105 - accuracy: 0.6347 - val_loss: 0.6087 - val_accuracy: 0.8352\n",
      "Epoch 40/1000\n",
      " 1/37 [..............................] - ETA: 0s - loss: 0.9778 - accuracy: 0.6875\n",
      "Epoch 40: saving model to model/keypoint_classifier/keypoint_classifier.hdf5\n",
      "37/37 [==============================] - 0s 2ms/step - loss: 0.9836 - accuracy: 0.6430 - val_loss: 0.5940 - val_accuracy: 0.8346\n",
      "Epoch 41/1000\n",
      " 1/37 [..............................] - ETA: 0s - loss: 0.8818 - accuracy: 0.6797\n",
      "Epoch 41: saving model to model/keypoint_classifier/keypoint_classifier.hdf5\n",
      "37/37 [==============================] - 0s 2ms/step - loss: 0.9878 - accuracy: 0.6315 - val_loss: 0.5858 - val_accuracy: 0.8359\n",
      "Epoch 42/1000\n",
      " 1/37 [..............................] - ETA: 0s - loss: 1.1253 - accuracy: 0.5859\n",
      "Epoch 42: saving model to model/keypoint_classifier/keypoint_classifier.hdf5\n",
      "37/37 [==============================] - 0s 2ms/step - loss: 0.9861 - accuracy: 0.6347 - val_loss: 0.5734 - val_accuracy: 0.8416\n",
      "Epoch 43/1000\n",
      " 1/37 [..............................] - ETA: 0s - loss: 1.0663 - accuracy: 0.6172\n",
      "Epoch 43: saving model to model/keypoint_classifier/keypoint_classifier.hdf5\n",
      "37/37 [==============================] - 0s 2ms/step - loss: 0.9741 - accuracy: 0.6437 - val_loss: 0.5705 - val_accuracy: 0.8321\n",
      "Epoch 44/1000\n",
      " 1/37 [..............................] - ETA: 0s - loss: 1.0228 - accuracy: 0.6250\n",
      "Epoch 44: saving model to model/keypoint_classifier/keypoint_classifier.hdf5\n",
      "37/37 [==============================] - 0s 2ms/step - loss: 0.9784 - accuracy: 0.6401 - val_loss: 0.5613 - val_accuracy: 0.8397\n",
      "Epoch 45/1000\n",
      " 1/37 [..............................] - ETA: 0s - loss: 0.9481 - accuracy: 0.6562\n",
      "Epoch 45: saving model to model/keypoint_classifier/keypoint_classifier.hdf5\n",
      "37/37 [==============================] - 0s 2ms/step - loss: 0.9639 - accuracy: 0.6441 - val_loss: 0.5593 - val_accuracy: 0.8436\n",
      "Epoch 46/1000\n",
      " 1/37 [..............................] - ETA: 0s - loss: 0.9037 - accuracy: 0.6484\n",
      "Epoch 46: saving model to model/keypoint_classifier/keypoint_classifier.hdf5\n",
      "37/37 [==============================] - 0s 1ms/step - loss: 0.9755 - accuracy: 0.6341 - val_loss: 0.5526 - val_accuracy: 0.8423\n",
      "Epoch 47/1000\n",
      " 1/37 [..............................] - ETA: 0s - loss: 0.9745 - accuracy: 0.6250\n",
      "Epoch 47: saving model to model/keypoint_classifier/keypoint_classifier.hdf5\n",
      "37/37 [==============================] - 0s 1ms/step - loss: 0.9529 - accuracy: 0.6541 - val_loss: 0.5373 - val_accuracy: 0.8423\n",
      "Epoch 48/1000\n",
      " 1/37 [..............................] - ETA: 0s - loss: 0.9350 - accuracy: 0.6250\n",
      "Epoch 48: saving model to model/keypoint_classifier/keypoint_classifier.hdf5\n",
      "37/37 [==============================] - 0s 1ms/step - loss: 0.9490 - accuracy: 0.6543 - val_loss: 0.5340 - val_accuracy: 0.8429\n",
      "Epoch 49/1000\n",
      " 1/37 [..............................] - ETA: 0s - loss: 0.9866 - accuracy: 0.5938\n",
      "Epoch 49: saving model to model/keypoint_classifier/keypoint_classifier.hdf5\n",
      "37/37 [==============================] - 0s 1ms/step - loss: 0.9431 - accuracy: 0.6464 - val_loss: 0.5274 - val_accuracy: 0.8384\n",
      "Epoch 50/1000\n",
      " 1/37 [..............................] - ETA: 0s - loss: 0.9521 - accuracy: 0.6719\n",
      "Epoch 50: saving model to model/keypoint_classifier/keypoint_classifier.hdf5\n",
      "37/37 [==============================] - 0s 1ms/step - loss: 0.9480 - accuracy: 0.6552 - val_loss: 0.5196 - val_accuracy: 0.8397\n",
      "Epoch 51/1000\n",
      " 1/37 [..............................] - ETA: 0s - loss: 0.9118 - accuracy: 0.6562\n",
      "Epoch 51: saving model to model/keypoint_classifier/keypoint_classifier.hdf5\n",
      "37/37 [==============================] - 0s 1ms/step - loss: 0.9309 - accuracy: 0.6526 - val_loss: 0.5139 - val_accuracy: 0.8404\n",
      "Epoch 52/1000\n",
      " 1/37 [..............................] - ETA: 0s - loss: 0.9708 - accuracy: 0.6719\n",
      "Epoch 52: saving model to model/keypoint_classifier/keypoint_classifier.hdf5\n",
      "37/37 [==============================] - 0s 1ms/step - loss: 0.9276 - accuracy: 0.6539 - val_loss: 0.5070 - val_accuracy: 0.8423\n",
      "Epoch 53/1000\n",
      " 1/37 [..............................] - ETA: 0s - loss: 0.8447 - accuracy: 0.6641\n",
      "Epoch 53: saving model to model/keypoint_classifier/keypoint_classifier.hdf5\n",
      "37/37 [==============================] - 0s 1ms/step - loss: 0.9172 - accuracy: 0.6643 - val_loss: 0.4972 - val_accuracy: 0.8493\n",
      "Epoch 54/1000\n",
      " 1/37 [..............................] - ETA: 0s - loss: 0.8538 - accuracy: 0.6875\n",
      "Epoch 54: saving model to model/keypoint_classifier/keypoint_classifier.hdf5\n",
      "37/37 [==============================] - 0s 1ms/step - loss: 0.9287 - accuracy: 0.6545 - val_loss: 0.5002 - val_accuracy: 0.8410\n",
      "Epoch 55/1000\n",
      " 1/37 [..............................] - ETA: 0s - loss: 0.8601 - accuracy: 0.7031\n",
      "Epoch 55: saving model to model/keypoint_classifier/keypoint_classifier.hdf5\n",
      "37/37 [==============================] - 0s 1ms/step - loss: 0.9073 - accuracy: 0.6601 - val_loss: 0.4905 - val_accuracy: 0.8467\n",
      "Epoch 56/1000\n",
      " 1/37 [..............................] - ETA: 0s - loss: 0.9607 - accuracy: 0.6094\n",
      "Epoch 56: saving model to model/keypoint_classifier/keypoint_classifier.hdf5\n",
      "37/37 [==============================] - 0s 1ms/step - loss: 0.9258 - accuracy: 0.6547 - val_loss: 0.4906 - val_accuracy: 0.8487\n",
      "Epoch 57/1000\n",
      " 1/37 [..............................] - ETA: 0s - loss: 0.8881 - accuracy: 0.6875\n",
      "Epoch 57: saving model to model/keypoint_classifier/keypoint_classifier.hdf5\n",
      "37/37 [==============================] - 0s 1ms/step - loss: 0.9073 - accuracy: 0.6654 - val_loss: 0.4837 - val_accuracy: 0.8570\n",
      "Epoch 58/1000\n",
      " 1/37 [..............................] - ETA: 0s - loss: 0.8300 - accuracy: 0.6953\n",
      "Epoch 58: saving model to model/keypoint_classifier/keypoint_classifier.hdf5\n",
      "37/37 [==============================] - 0s 1ms/step - loss: 0.8912 - accuracy: 0.6731 - val_loss: 0.4690 - val_accuracy: 0.8621\n",
      "Epoch 59/1000\n",
      " 1/37 [..............................] - ETA: 0s - loss: 0.9690 - accuracy: 0.6016\n",
      "Epoch 59: saving model to model/keypoint_classifier/keypoint_classifier.hdf5\n",
      "37/37 [==============================] - 0s 1ms/step - loss: 0.9099 - accuracy: 0.6671 - val_loss: 0.4722 - val_accuracy: 0.8646\n",
      "Epoch 60/1000\n",
      " 1/37 [..............................] - ETA: 0s - loss: 0.7576 - accuracy: 0.6953\n",
      "Epoch 60: saving model to model/keypoint_classifier/keypoint_classifier.hdf5\n",
      "37/37 [==============================] - 0s 1ms/step - loss: 0.9127 - accuracy: 0.6590 - val_loss: 0.4608 - val_accuracy: 0.8627\n",
      "Epoch 61/1000\n",
      " 1/37 [..............................] - ETA: 0s - loss: 1.0094 - accuracy: 0.6094\n",
      "Epoch 61: saving model to model/keypoint_classifier/keypoint_classifier.hdf5\n",
      "37/37 [==============================] - 0s 1ms/step - loss: 0.9204 - accuracy: 0.6567 - val_loss: 0.4637 - val_accuracy: 0.8665\n",
      "Epoch 62/1000\n",
      " 1/37 [..............................] - ETA: 0s - loss: 0.9112 - accuracy: 0.6641\n",
      "Epoch 62: saving model to model/keypoint_classifier/keypoint_classifier.hdf5\n",
      "37/37 [==============================] - 0s 1ms/step - loss: 0.8901 - accuracy: 0.6731 - val_loss: 0.4625 - val_accuracy: 0.8844\n",
      "Epoch 63/1000\n",
      " 1/37 [..............................] - ETA: 0s - loss: 0.8152 - accuracy: 0.7422\n",
      "Epoch 63: saving model to model/keypoint_classifier/keypoint_classifier.hdf5\n",
      "37/37 [==============================] - 0s 1ms/step - loss: 0.8826 - accuracy: 0.6739 - val_loss: 0.4576 - val_accuracy: 0.8914\n",
      "Epoch 64/1000\n",
      " 1/37 [..............................] - ETA: 0s - loss: 0.9654 - accuracy: 0.6172\n",
      "Epoch 64: saving model to model/keypoint_classifier/keypoint_classifier.hdf5\n",
      "37/37 [==============================] - 0s 1ms/step - loss: 0.8994 - accuracy: 0.6694 - val_loss: 0.4525 - val_accuracy: 0.8921\n",
      "Epoch 65/1000\n",
      " 1/37 [..............................] - ETA: 0s - loss: 1.1127 - accuracy: 0.5703\n",
      "Epoch 65: saving model to model/keypoint_classifier/keypoint_classifier.hdf5\n",
      "37/37 [==============================] - 0s 1ms/step - loss: 0.9068 - accuracy: 0.6686 - val_loss: 0.4507 - val_accuracy: 0.9010\n",
      "Epoch 66/1000\n",
      " 1/37 [..............................] - ETA: 0s - loss: 0.8959 - accuracy: 0.6172\n",
      "Epoch 66: saving model to model/keypoint_classifier/keypoint_classifier.hdf5\n",
      "37/37 [==============================] - 0s 1ms/step - loss: 0.8918 - accuracy: 0.6739 - val_loss: 0.4460 - val_accuracy: 0.8844\n",
      "Epoch 67/1000\n",
      " 1/37 [..............................] - ETA: 0s - loss: 0.9006 - accuracy: 0.6953\n",
      "Epoch 67: saving model to model/keypoint_classifier/keypoint_classifier.hdf5\n",
      "37/37 [==============================] - 0s 1ms/step - loss: 0.8878 - accuracy: 0.6709 - val_loss: 0.4508 - val_accuracy: 0.9074\n",
      "Epoch 68/1000\n",
      " 1/37 [..............................] - ETA: 0s - loss: 0.8096 - accuracy: 0.6875\n",
      "Epoch 68: saving model to model/keypoint_classifier/keypoint_classifier.hdf5\n",
      "37/37 [==============================] - 0s 1ms/step - loss: 0.9008 - accuracy: 0.6635 - val_loss: 0.4459 - val_accuracy: 0.9138\n",
      "Epoch 69/1000\n",
      " 1/37 [..............................] - ETA: 0s - loss: 1.0063 - accuracy: 0.6641\n",
      "Epoch 69: saving model to model/keypoint_classifier/keypoint_classifier.hdf5\n",
      "37/37 [==============================] - 0s 1ms/step - loss: 0.8821 - accuracy: 0.6686 - val_loss: 0.4383 - val_accuracy: 0.9036\n",
      "Epoch 70/1000\n",
      " 1/37 [..............................] - ETA: 0s - loss: 0.8450 - accuracy: 0.7031\n",
      "Epoch 70: saving model to model/keypoint_classifier/keypoint_classifier.hdf5\n",
      "37/37 [==============================] - 0s 1ms/step - loss: 0.8825 - accuracy: 0.6790 - val_loss: 0.4350 - val_accuracy: 0.9132\n",
      "Epoch 71/1000\n",
      " 1/37 [..............................] - ETA: 0s - loss: 0.7528 - accuracy: 0.7422\n",
      "Epoch 71: saving model to model/keypoint_classifier/keypoint_classifier.hdf5\n",
      "37/37 [==============================] - 0s 1ms/step - loss: 0.8902 - accuracy: 0.6692 - val_loss: 0.4349 - val_accuracy: 0.9208\n",
      "Epoch 72/1000\n",
      " 1/37 [..............................] - ETA: 0s - loss: 1.0363 - accuracy: 0.5938\n",
      "Epoch 72: saving model to model/keypoint_classifier/keypoint_classifier.hdf5\n",
      "37/37 [==============================] - 0s 1ms/step - loss: 0.8975 - accuracy: 0.6643 - val_loss: 0.4383 - val_accuracy: 0.9157\n",
      "Epoch 73/1000\n",
      " 1/37 [..............................] - ETA: 0s - loss: 0.7737 - accuracy: 0.7188\n",
      "Epoch 73: saving model to model/keypoint_classifier/keypoint_classifier.hdf5\n",
      "37/37 [==============================] - 0s 2ms/step - loss: 0.8526 - accuracy: 0.6884 - val_loss: 0.4252 - val_accuracy: 0.9240\n",
      "Epoch 74/1000\n",
      " 1/37 [..............................] - ETA: 0s - loss: 0.9473 - accuracy: 0.6328\n",
      "Epoch 74: saving model to model/keypoint_classifier/keypoint_classifier.hdf5\n",
      "37/37 [==============================] - 0s 1ms/step - loss: 0.8755 - accuracy: 0.6773 - val_loss: 0.4235 - val_accuracy: 0.9246\n",
      "Epoch 75/1000\n",
      " 1/37 [..............................] - ETA: 0s - loss: 0.7647 - accuracy: 0.7656\n",
      "Epoch 75: saving model to model/keypoint_classifier/keypoint_classifier.hdf5\n",
      "37/37 [==============================] - 0s 1ms/step - loss: 0.8786 - accuracy: 0.6720 - val_loss: 0.4192 - val_accuracy: 0.9246\n",
      "Epoch 76/1000\n",
      " 1/37 [..............................] - ETA: 0s - loss: 0.7800 - accuracy: 0.7344\n",
      "Epoch 76: saving model to model/keypoint_classifier/keypoint_classifier.hdf5\n",
      "37/37 [==============================] - 0s 1ms/step - loss: 0.8569 - accuracy: 0.6811 - val_loss: 0.4139 - val_accuracy: 0.9246\n",
      "Epoch 77/1000\n",
      " 1/37 [..............................] - ETA: 0s - loss: 0.7549 - accuracy: 0.7344\n",
      "Epoch 77: saving model to model/keypoint_classifier/keypoint_classifier.hdf5\n",
      "37/37 [==============================] - 0s 1ms/step - loss: 0.8650 - accuracy: 0.6856 - val_loss: 0.4123 - val_accuracy: 0.9310\n",
      "Epoch 78/1000\n",
      " 1/37 [..............................] - ETA: 0s - loss: 0.8168 - accuracy: 0.7500\n",
      "Epoch 78: saving model to model/keypoint_classifier/keypoint_classifier.hdf5\n",
      "37/37 [==============================] - 0s 1ms/step - loss: 0.8589 - accuracy: 0.6928 - val_loss: 0.4096 - val_accuracy: 0.9298\n",
      "Epoch 79/1000\n",
      " 1/37 [..............................] - ETA: 0s - loss: 0.9489 - accuracy: 0.6797\n",
      "Epoch 79: saving model to model/keypoint_classifier/keypoint_classifier.hdf5\n",
      "37/37 [==============================] - 0s 1ms/step - loss: 0.8757 - accuracy: 0.6807 - val_loss: 0.4106 - val_accuracy: 0.9259\n",
      "Epoch 80/1000\n",
      " 1/37 [..............................] - ETA: 0s - loss: 0.9097 - accuracy: 0.6484\n",
      "Epoch 80: saving model to model/keypoint_classifier/keypoint_classifier.hdf5\n",
      "37/37 [==============================] - 0s 1ms/step - loss: 0.8528 - accuracy: 0.6801 - val_loss: 0.4099 - val_accuracy: 0.9272\n",
      "Epoch 81/1000\n",
      " 1/37 [..............................] - ETA: 0s - loss: 0.7870 - accuracy: 0.6953\n",
      "Epoch 81: saving model to model/keypoint_classifier/keypoint_classifier.hdf5\n",
      "37/37 [==============================] - 0s 1ms/step - loss: 0.8682 - accuracy: 0.6790 - val_loss: 0.4139 - val_accuracy: 0.9253\n",
      "Epoch 82/1000\n",
      " 1/37 [..............................] - ETA: 0s - loss: 0.7090 - accuracy: 0.7422\n",
      "Epoch 82: saving model to model/keypoint_classifier/keypoint_classifier.hdf5\n",
      "37/37 [==============================] - 0s 999us/step - loss: 0.8600 - accuracy: 0.6822 - val_loss: 0.4059 - val_accuracy: 0.9272\n",
      "Epoch 83/1000\n",
      " 1/37 [..............................] - ETA: 0s - loss: 0.9126 - accuracy: 0.6719\n",
      "Epoch 83: saving model to model/keypoint_classifier/keypoint_classifier.hdf5\n",
      "37/37 [==============================] - 0s 1ms/step - loss: 0.8570 - accuracy: 0.6845 - val_loss: 0.4028 - val_accuracy: 0.9240\n",
      "Epoch 84/1000\n",
      " 1/37 [..............................] - ETA: 0s - loss: 0.8822 - accuracy: 0.6797\n",
      "Epoch 84: saving model to model/keypoint_classifier/keypoint_classifier.hdf5\n",
      "37/37 [==============================] - 0s 1ms/step - loss: 0.8470 - accuracy: 0.6922 - val_loss: 0.4024 - val_accuracy: 0.9317\n",
      "Epoch 85/1000\n",
      " 1/37 [..............................] - ETA: 0s - loss: 0.7450 - accuracy: 0.7344\n",
      "Epoch 85: saving model to model/keypoint_classifier/keypoint_classifier.hdf5\n",
      "37/37 [==============================] - 0s 1ms/step - loss: 0.8473 - accuracy: 0.6922 - val_loss: 0.3983 - val_accuracy: 0.9310\n",
      "Epoch 86/1000\n",
      " 1/37 [..............................] - ETA: 0s - loss: 0.8038 - accuracy: 0.7109\n",
      "Epoch 86: saving model to model/keypoint_classifier/keypoint_classifier.hdf5\n",
      "37/37 [==============================] - 0s 1ms/step - loss: 0.8355 - accuracy: 0.6980 - val_loss: 0.3976 - val_accuracy: 0.9310\n",
      "Epoch 87/1000\n",
      " 1/37 [..............................] - ETA: 0s - loss: 0.7818 - accuracy: 0.7188\n",
      "Epoch 87: saving model to model/keypoint_classifier/keypoint_classifier.hdf5\n",
      "37/37 [==============================] - 0s 982us/step - loss: 0.8424 - accuracy: 0.6943 - val_loss: 0.3906 - val_accuracy: 0.9330\n",
      "Epoch 88/1000\n",
      " 1/37 [..............................] - ETA: 0s - loss: 0.8932 - accuracy: 0.6875\n",
      "Epoch 88: saving model to model/keypoint_classifier/keypoint_classifier.hdf5\n",
      "37/37 [==============================] - 0s 968us/step - loss: 0.8416 - accuracy: 0.6877 - val_loss: 0.3920 - val_accuracy: 0.9317\n",
      "Epoch 89/1000\n",
      " 1/37 [..............................] - ETA: 0s - loss: 0.8617 - accuracy: 0.6406\n",
      "Epoch 89: saving model to model/keypoint_classifier/keypoint_classifier.hdf5\n",
      "37/37 [==============================] - 0s 1ms/step - loss: 0.8347 - accuracy: 0.6969 - val_loss: 0.3805 - val_accuracy: 0.9349\n",
      "Epoch 90/1000\n",
      " 1/37 [..............................] - ETA: 0s - loss: 0.8555 - accuracy: 0.6641\n",
      "Epoch 90: saving model to model/keypoint_classifier/keypoint_classifier.hdf5\n",
      "37/37 [==============================] - 0s 1ms/step - loss: 0.8277 - accuracy: 0.6988 - val_loss: 0.3959 - val_accuracy: 0.9227\n",
      "Epoch 91/1000\n",
      " 1/37 [..............................] - ETA: 0s - loss: 1.0147 - accuracy: 0.6641\n",
      "Epoch 91: saving model to model/keypoint_classifier/keypoint_classifier.hdf5\n",
      "37/37 [==============================] - 0s 987us/step - loss: 0.8316 - accuracy: 0.7001 - val_loss: 0.3799 - val_accuracy: 0.9387\n",
      "Epoch 92/1000\n",
      " 1/37 [..............................] - ETA: 0s - loss: 0.7865 - accuracy: 0.7422\n",
      "Epoch 92: saving model to model/keypoint_classifier/keypoint_classifier.hdf5\n",
      "37/37 [==============================] - 0s 1000us/step - loss: 0.8319 - accuracy: 0.6975 - val_loss: 0.3776 - val_accuracy: 0.9393\n",
      "Epoch 93/1000\n",
      " 1/37 [..............................] - ETA: 0s - loss: 0.7546 - accuracy: 0.7656\n",
      "Epoch 93: saving model to model/keypoint_classifier/keypoint_classifier.hdf5\n",
      "37/37 [==============================] - 0s 1ms/step - loss: 0.8427 - accuracy: 0.6977 - val_loss: 0.3838 - val_accuracy: 0.9387\n",
      "Epoch 94/1000\n",
      " 1/37 [..............................] - ETA: 0s - loss: 1.0192 - accuracy: 0.6406\n",
      "Epoch 94: saving model to model/keypoint_classifier/keypoint_classifier.hdf5\n",
      "37/37 [==============================] - 0s 1ms/step - loss: 0.8509 - accuracy: 0.6946 - val_loss: 0.3879 - val_accuracy: 0.9361\n",
      "Epoch 95/1000\n",
      " 1/37 [..............................] - ETA: 0s - loss: 0.8101 - accuracy: 0.7109\n",
      "Epoch 95: saving model to model/keypoint_classifier/keypoint_classifier.hdf5\n",
      "37/37 [==============================] - 0s 996us/step - loss: 0.8427 - accuracy: 0.6965 - val_loss: 0.3882 - val_accuracy: 0.9304\n",
      "Epoch 96/1000\n",
      " 1/37 [..............................] - ETA: 0s - loss: 0.8213 - accuracy: 0.7188\n",
      "Epoch 96: saving model to model/keypoint_classifier/keypoint_classifier.hdf5\n",
      "37/37 [==============================] - 0s 1ms/step - loss: 0.8215 - accuracy: 0.6973 - val_loss: 0.3782 - val_accuracy: 0.9361\n",
      "Epoch 97/1000\n",
      " 1/37 [..............................] - ETA: 0s - loss: 0.7812 - accuracy: 0.7344\n",
      "Epoch 97: saving model to model/keypoint_classifier/keypoint_classifier.hdf5\n",
      "37/37 [==============================] - 0s 1ms/step - loss: 0.8262 - accuracy: 0.6975 - val_loss: 0.3751 - val_accuracy: 0.9330\n",
      "Epoch 98/1000\n",
      " 1/37 [..............................] - ETA: 0s - loss: 0.9378 - accuracy: 0.6328\n",
      "Epoch 98: saving model to model/keypoint_classifier/keypoint_classifier.hdf5\n",
      "37/37 [==============================] - 0s 1ms/step - loss: 0.8536 - accuracy: 0.6965 - val_loss: 0.3791 - val_accuracy: 0.9374\n",
      "Epoch 99/1000\n",
      " 1/37 [..............................] - ETA: 0s - loss: 0.7678 - accuracy: 0.7188\n",
      "Epoch 99: saving model to model/keypoint_classifier/keypoint_classifier.hdf5\n",
      "37/37 [==============================] - 0s 992us/step - loss: 0.8325 - accuracy: 0.6905 - val_loss: 0.3753 - val_accuracy: 0.9381\n",
      "Epoch 100/1000\n",
      " 1/37 [..............................] - ETA: 0s - loss: 0.9317 - accuracy: 0.6875\n",
      "Epoch 100: saving model to model/keypoint_classifier/keypoint_classifier.hdf5\n",
      "37/37 [==============================] - 0s 1ms/step - loss: 0.8175 - accuracy: 0.7090 - val_loss: 0.3772 - val_accuracy: 0.9342\n",
      "Epoch 101/1000\n",
      " 1/37 [..............................] - ETA: 0s - loss: 0.6834 - accuracy: 0.7422\n",
      "Epoch 101: saving model to model/keypoint_classifier/keypoint_classifier.hdf5\n",
      "37/37 [==============================] - 0s 1ms/step - loss: 0.8230 - accuracy: 0.7033 - val_loss: 0.3748 - val_accuracy: 0.9361\n",
      "Epoch 102/1000\n",
      " 1/37 [..............................] - ETA: 0s - loss: 0.8304 - accuracy: 0.6875\n",
      "Epoch 102: saving model to model/keypoint_classifier/keypoint_classifier.hdf5\n",
      "37/37 [==============================] - 0s 1ms/step - loss: 0.8305 - accuracy: 0.6931 - val_loss: 0.3760 - val_accuracy: 0.9342\n",
      "Epoch 103/1000\n",
      " 1/37 [..............................] - ETA: 0s - loss: 0.9534 - accuracy: 0.6953\n",
      "Epoch 103: saving model to model/keypoint_classifier/keypoint_classifier.hdf5\n",
      "37/37 [==============================] - 0s 990us/step - loss: 0.8288 - accuracy: 0.7058 - val_loss: 0.3687 - val_accuracy: 0.9355\n",
      "Epoch 104/1000\n",
      " 1/37 [..............................] - ETA: 0s - loss: 0.8973 - accuracy: 0.6641\n",
      "Epoch 104: saving model to model/keypoint_classifier/keypoint_classifier.hdf5\n",
      "37/37 [==============================] - 0s 1ms/step - loss: 0.8329 - accuracy: 0.7018 - val_loss: 0.3704 - val_accuracy: 0.9393\n",
      "Epoch 105/1000\n",
      " 1/37 [..............................] - ETA: 0s - loss: 0.8444 - accuracy: 0.6719\n",
      "Epoch 105: saving model to model/keypoint_classifier/keypoint_classifier.hdf5\n",
      "37/37 [==============================] - 0s 1ms/step - loss: 0.8257 - accuracy: 0.7011 - val_loss: 0.3694 - val_accuracy: 0.9349\n",
      "Epoch 106/1000\n",
      " 1/37 [..............................] - ETA: 0s - loss: 0.6985 - accuracy: 0.7031\n",
      "Epoch 106: saving model to model/keypoint_classifier/keypoint_classifier.hdf5\n",
      "37/37 [==============================] - 0s 990us/step - loss: 0.8255 - accuracy: 0.6939 - val_loss: 0.3689 - val_accuracy: 0.9355\n",
      "Epoch 107/1000\n",
      " 1/37 [..............................] - ETA: 0s - loss: 0.7636 - accuracy: 0.7109\n",
      "Epoch 107: saving model to model/keypoint_classifier/keypoint_classifier.hdf5\n",
      "37/37 [==============================] - 0s 1ms/step - loss: 0.8166 - accuracy: 0.7071 - val_loss: 0.3633 - val_accuracy: 0.9419\n",
      "Epoch 108/1000\n",
      " 1/37 [..............................] - ETA: 0s - loss: 0.8486 - accuracy: 0.7188\n",
      "Epoch 108: saving model to model/keypoint_classifier/keypoint_classifier.hdf5\n",
      "37/37 [==============================] - 0s 1ms/step - loss: 0.8414 - accuracy: 0.6926 - val_loss: 0.3750 - val_accuracy: 0.9304\n",
      "Epoch 109/1000\n",
      " 1/37 [..............................] - ETA: 0s - loss: 0.7526 - accuracy: 0.7109\n",
      "Epoch 109: saving model to model/keypoint_classifier/keypoint_classifier.hdf5\n",
      "37/37 [==============================] - 0s 1ms/step - loss: 0.8232 - accuracy: 0.7073 - val_loss: 0.3644 - val_accuracy: 0.9374\n",
      "Epoch 110/1000\n",
      " 1/37 [..............................] - ETA: 0s - loss: 0.8265 - accuracy: 0.6875\n",
      "Epoch 110: saving model to model/keypoint_classifier/keypoint_classifier.hdf5\n",
      "37/37 [==============================] - 0s 1ms/step - loss: 0.8231 - accuracy: 0.6999 - val_loss: 0.3732 - val_accuracy: 0.9349\n",
      "Epoch 111/1000\n",
      " 1/37 [..............................] - ETA: 0s - loss: 0.7277 - accuracy: 0.7188\n",
      "Epoch 111: saving model to model/keypoint_classifier/keypoint_classifier.hdf5\n",
      "37/37 [==============================] - 0s 1ms/step - loss: 0.8142 - accuracy: 0.6965 - val_loss: 0.3665 - val_accuracy: 0.9368\n",
      "Epoch 112/1000\n",
      " 1/37 [..............................] - ETA: 0s - loss: 0.7746 - accuracy: 0.7109\n",
      "Epoch 112: saving model to model/keypoint_classifier/keypoint_classifier.hdf5\n",
      "37/37 [==============================] - 0s 997us/step - loss: 0.7984 - accuracy: 0.7150 - val_loss: 0.3600 - val_accuracy: 0.9425\n",
      "Epoch 113/1000\n",
      " 1/37 [..............................] - ETA: 0s - loss: 0.8629 - accuracy: 0.7188\n",
      "Epoch 113: saving model to model/keypoint_classifier/keypoint_classifier.hdf5\n",
      "37/37 [==============================] - 0s 1ms/step - loss: 0.8102 - accuracy: 0.7116 - val_loss: 0.3570 - val_accuracy: 0.9406\n",
      "Epoch 114/1000\n",
      " 1/37 [..............................] - ETA: 0s - loss: 0.7807 - accuracy: 0.7266\n",
      "Epoch 114: saving model to model/keypoint_classifier/keypoint_classifier.hdf5\n",
      "37/37 [==============================] - 0s 1ms/step - loss: 0.8233 - accuracy: 0.6969 - val_loss: 0.3497 - val_accuracy: 0.9457\n",
      "Epoch 115/1000\n",
      " 1/37 [..............................] - ETA: 0s - loss: 0.8785 - accuracy: 0.6406\n",
      "Epoch 115: saving model to model/keypoint_classifier/keypoint_classifier.hdf5\n",
      "37/37 [==============================] - 0s 1ms/step - loss: 0.7983 - accuracy: 0.7205 - val_loss: 0.3492 - val_accuracy: 0.9425\n",
      "Epoch 116/1000\n",
      " 1/37 [..............................] - ETA: 0s - loss: 0.8300 - accuracy: 0.7422\n",
      "Epoch 116: saving model to model/keypoint_classifier/keypoint_classifier.hdf5\n",
      "37/37 [==============================] - 0s 1ms/step - loss: 0.8165 - accuracy: 0.7126 - val_loss: 0.3546 - val_accuracy: 0.9419\n",
      "Epoch 117/1000\n",
      " 1/37 [..............................] - ETA: 0s - loss: 1.0565 - accuracy: 0.5781\n",
      "Epoch 117: saving model to model/keypoint_classifier/keypoint_classifier.hdf5\n",
      "37/37 [==============================] - 0s 1ms/step - loss: 0.8136 - accuracy: 0.7043 - val_loss: 0.3573 - val_accuracy: 0.9387\n",
      "Epoch 118/1000\n",
      " 1/37 [..............................] - ETA: 0s - loss: 0.9213 - accuracy: 0.6875\n",
      "Epoch 118: saving model to model/keypoint_classifier/keypoint_classifier.hdf5\n",
      "37/37 [==============================] - 0s 1ms/step - loss: 0.7783 - accuracy: 0.7143 - val_loss: 0.3480 - val_accuracy: 0.9387\n",
      "Epoch 119/1000\n",
      " 1/37 [..............................] - ETA: 0s - loss: 0.8579 - accuracy: 0.7109\n",
      "Epoch 119: saving model to model/keypoint_classifier/keypoint_classifier.hdf5\n",
      "37/37 [==============================] - 0s 1000us/step - loss: 0.8066 - accuracy: 0.7118 - val_loss: 0.3528 - val_accuracy: 0.9387\n",
      "Epoch 120/1000\n",
      " 1/37 [..............................] - ETA: 0s - loss: 0.8520 - accuracy: 0.6797\n",
      "Epoch 120: saving model to model/keypoint_classifier/keypoint_classifier.hdf5\n",
      "37/37 [==============================] - 0s 1ms/step - loss: 0.7989 - accuracy: 0.7035 - val_loss: 0.3512 - val_accuracy: 0.9406\n",
      "Epoch 121/1000\n",
      " 1/37 [..............................] - ETA: 0s - loss: 0.7825 - accuracy: 0.7500\n",
      "Epoch 121: saving model to model/keypoint_classifier/keypoint_classifier.hdf5\n",
      "37/37 [==============================] - 0s 1ms/step - loss: 0.8044 - accuracy: 0.7086 - val_loss: 0.3566 - val_accuracy: 0.9361\n",
      "Epoch 122/1000\n",
      " 1/37 [..............................] - ETA: 0s - loss: 0.7288 - accuracy: 0.7734\n",
      "Epoch 122: saving model to model/keypoint_classifier/keypoint_classifier.hdf5\n",
      "37/37 [==============================] - 0s 1ms/step - loss: 0.8075 - accuracy: 0.7146 - val_loss: 0.3472 - val_accuracy: 0.9438\n",
      "Epoch 123/1000\n",
      " 1/37 [..............................] - ETA: 0s - loss: 0.8217 - accuracy: 0.7344\n",
      "Epoch 123: saving model to model/keypoint_classifier/keypoint_classifier.hdf5\n",
      "37/37 [==============================] - 0s 994us/step - loss: 0.7736 - accuracy: 0.7239 - val_loss: 0.3432 - val_accuracy: 0.9425\n",
      "Epoch 124/1000\n",
      " 1/37 [..............................] - ETA: 0s - loss: 0.6310 - accuracy: 0.7656\n",
      "Epoch 124: saving model to model/keypoint_classifier/keypoint_classifier.hdf5\n",
      "37/37 [==============================] - 0s 1ms/step - loss: 0.8068 - accuracy: 0.7022 - val_loss: 0.3479 - val_accuracy: 0.9419\n",
      "Epoch 125/1000\n",
      " 1/37 [..............................] - ETA: 0s - loss: 0.8442 - accuracy: 0.6875\n",
      "Epoch 125: saving model to model/keypoint_classifier/keypoint_classifier.hdf5\n",
      "37/37 [==============================] - 0s 1ms/step - loss: 0.8379 - accuracy: 0.6977 - val_loss: 0.3398 - val_accuracy: 0.9476\n",
      "Epoch 126/1000\n",
      " 1/37 [..............................] - ETA: 0s - loss: 0.9684 - accuracy: 0.6797\n",
      "Epoch 126: saving model to model/keypoint_classifier/keypoint_classifier.hdf5\n",
      "37/37 [==============================] - 0s 1ms/step - loss: 0.8161 - accuracy: 0.7046 - val_loss: 0.3461 - val_accuracy: 0.9444\n",
      "Epoch 127/1000\n",
      " 1/37 [..............................] - ETA: 0s - loss: 0.9093 - accuracy: 0.7188\n",
      "Epoch 127: saving model to model/keypoint_classifier/keypoint_classifier.hdf5\n",
      "37/37 [==============================] - 0s 2ms/step - loss: 0.8051 - accuracy: 0.7099 - val_loss: 0.3502 - val_accuracy: 0.9425\n",
      "Epoch 128/1000\n",
      " 1/37 [..............................] - ETA: 0s - loss: 0.6040 - accuracy: 0.7656\n",
      "Epoch 128: saving model to model/keypoint_classifier/keypoint_classifier.hdf5\n",
      "37/37 [==============================] - 0s 1ms/step - loss: 0.8030 - accuracy: 0.7118 - val_loss: 0.3489 - val_accuracy: 0.9374\n",
      "Epoch 129/1000\n",
      " 1/37 [..............................] - ETA: 0s - loss: 0.8848 - accuracy: 0.6719\n",
      "Epoch 129: saving model to model/keypoint_classifier/keypoint_classifier.hdf5\n",
      "37/37 [==============================] - 0s 1ms/step - loss: 0.7858 - accuracy: 0.7201 - val_loss: 0.3390 - val_accuracy: 0.9457\n",
      "Epoch 130/1000\n",
      " 1/37 [..............................] - ETA: 0s - loss: 0.8340 - accuracy: 0.6875\n",
      "Epoch 130: saving model to model/keypoint_classifier/keypoint_classifier.hdf5\n",
      "37/37 [==============================] - 0s 1ms/step - loss: 0.7849 - accuracy: 0.7235 - val_loss: 0.3403 - val_accuracy: 0.9406\n",
      "Epoch 131/1000\n",
      " 1/37 [..............................] - ETA: 0s - loss: 0.7245 - accuracy: 0.7578\n",
      "Epoch 131: saving model to model/keypoint_classifier/keypoint_classifier.hdf5\n",
      "37/37 [==============================] - 0s 994us/step - loss: 0.7900 - accuracy: 0.7152 - val_loss: 0.3362 - val_accuracy: 0.9457\n",
      "Epoch 132/1000\n",
      " 1/37 [..............................] - ETA: 0s - loss: 0.7614 - accuracy: 0.7109\n",
      "Epoch 132: saving model to model/keypoint_classifier/keypoint_classifier.hdf5\n",
      "37/37 [==============================] - 0s 1ms/step - loss: 0.7994 - accuracy: 0.7156 - val_loss: 0.3334 - val_accuracy: 0.9425\n",
      "Epoch 133/1000\n",
      " 1/37 [..............................] - ETA: 0s - loss: 0.9219 - accuracy: 0.6875\n",
      "Epoch 133: saving model to model/keypoint_classifier/keypoint_classifier.hdf5\n",
      "37/37 [==============================] - 0s 1ms/step - loss: 0.7705 - accuracy: 0.7216 - val_loss: 0.3327 - val_accuracy: 0.9476\n",
      "Epoch 134/1000\n",
      " 1/37 [..............................] - ETA: 0s - loss: 0.9193 - accuracy: 0.6797\n",
      "Epoch 134: saving model to model/keypoint_classifier/keypoint_classifier.hdf5\n",
      "37/37 [==============================] - 0s 1ms/step - loss: 0.7975 - accuracy: 0.7190 - val_loss: 0.3340 - val_accuracy: 0.9451\n",
      "Epoch 135/1000\n",
      " 1/37 [..............................] - ETA: 0s - loss: 0.8198 - accuracy: 0.6719\n",
      "Epoch 135: saving model to model/keypoint_classifier/keypoint_classifier.hdf5\n",
      "37/37 [==============================] - 0s 1ms/step - loss: 0.8061 - accuracy: 0.7077 - val_loss: 0.3435 - val_accuracy: 0.9432\n",
      "Epoch 136/1000\n",
      " 1/37 [..............................] - ETA: 0s - loss: 0.7699 - accuracy: 0.6875\n",
      "Epoch 136: saving model to model/keypoint_classifier/keypoint_classifier.hdf5\n",
      "37/37 [==============================] - 0s 1ms/step - loss: 0.7623 - accuracy: 0.7235 - val_loss: 0.3380 - val_accuracy: 0.9470\n",
      "Epoch 137/1000\n",
      " 1/37 [..............................] - ETA: 0s - loss: 0.8659 - accuracy: 0.7266\n",
      "Epoch 137: saving model to model/keypoint_classifier/keypoint_classifier.hdf5\n",
      "37/37 [==============================] - 0s 1ms/step - loss: 0.7929 - accuracy: 0.7201 - val_loss: 0.3400 - val_accuracy: 0.9451\n",
      "Epoch 138/1000\n",
      " 1/37 [..............................] - ETA: 0s - loss: 0.7856 - accuracy: 0.7344\n",
      "Epoch 138: saving model to model/keypoint_classifier/keypoint_classifier.hdf5\n",
      "37/37 [==============================] - 0s 991us/step - loss: 0.7853 - accuracy: 0.7146 - val_loss: 0.3410 - val_accuracy: 0.9432\n",
      "Epoch 139/1000\n",
      " 1/37 [..............................] - ETA: 0s - loss: 0.8191 - accuracy: 0.7188\n",
      "Epoch 139: saving model to model/keypoint_classifier/keypoint_classifier.hdf5\n",
      "37/37 [==============================] - 0s 995us/step - loss: 0.8089 - accuracy: 0.7065 - val_loss: 0.3389 - val_accuracy: 0.9464\n",
      "Epoch 140/1000\n",
      " 1/37 [..............................] - ETA: 0s - loss: 0.8033 - accuracy: 0.7500\n",
      "Epoch 140: saving model to model/keypoint_classifier/keypoint_classifier.hdf5\n",
      "37/37 [==============================] - 0s 1ms/step - loss: 0.7785 - accuracy: 0.7216 - val_loss: 0.3361 - val_accuracy: 0.9425\n",
      "Epoch 141/1000\n",
      " 1/37 [..............................] - ETA: 0s - loss: 0.7669 - accuracy: 0.7109\n",
      "Epoch 141: saving model to model/keypoint_classifier/keypoint_classifier.hdf5\n",
      "37/37 [==============================] - 0s 1ms/step - loss: 0.7881 - accuracy: 0.7148 - val_loss: 0.3357 - val_accuracy: 0.9406\n",
      "Epoch 142/1000\n",
      " 1/37 [..............................] - ETA: 0s - loss: 0.9806 - accuracy: 0.6875\n",
      "Epoch 142: saving model to model/keypoint_classifier/keypoint_classifier.hdf5\n",
      "37/37 [==============================] - 0s 979us/step - loss: 0.8019 - accuracy: 0.7135 - val_loss: 0.3302 - val_accuracy: 0.9464\n",
      "Epoch 143/1000\n",
      " 1/37 [..............................] - ETA: 0s - loss: 0.7335 - accuracy: 0.7656\n",
      "Epoch 143: saving model to model/keypoint_classifier/keypoint_classifier.hdf5\n",
      "37/37 [==============================] - 0s 1ms/step - loss: 0.7779 - accuracy: 0.7250 - val_loss: 0.3275 - val_accuracy: 0.9496\n",
      "Epoch 144/1000\n",
      " 1/37 [..............................] - ETA: 0s - loss: 0.7967 - accuracy: 0.6953\n",
      "Epoch 144: saving model to model/keypoint_classifier/keypoint_classifier.hdf5\n",
      "37/37 [==============================] - 0s 1ms/step - loss: 0.7784 - accuracy: 0.7163 - val_loss: 0.3299 - val_accuracy: 0.9457\n",
      "Epoch 145/1000\n",
      " 1/37 [..............................] - ETA: 0s - loss: 0.7945 - accuracy: 0.6719\n",
      "Epoch 145: saving model to model/keypoint_classifier/keypoint_classifier.hdf5\n",
      "37/37 [==============================] - 0s 1ms/step - loss: 0.7855 - accuracy: 0.7184 - val_loss: 0.3352 - val_accuracy: 0.9425\n",
      "Epoch 146/1000\n",
      " 1/37 [..............................] - ETA: 0s - loss: 0.7305 - accuracy: 0.7188\n",
      "Epoch 146: saving model to model/keypoint_classifier/keypoint_classifier.hdf5\n",
      "37/37 [==============================] - 0s 976us/step - loss: 0.8031 - accuracy: 0.7171 - val_loss: 0.3325 - val_accuracy: 0.9425\n",
      "Epoch 147/1000\n",
      " 1/37 [..............................] - ETA: 0s - loss: 0.8747 - accuracy: 0.6953\n",
      "Epoch 147: saving model to model/keypoint_classifier/keypoint_classifier.hdf5\n",
      "37/37 [==============================] - 0s 1ms/step - loss: 0.8037 - accuracy: 0.7031 - val_loss: 0.3405 - val_accuracy: 0.9419\n",
      "Epoch 148/1000\n",
      " 1/37 [..............................] - ETA: 0s - loss: 0.7945 - accuracy: 0.7422\n",
      "Epoch 148: saving model to model/keypoint_classifier/keypoint_classifier.hdf5\n",
      "37/37 [==============================] - 0s 995us/step - loss: 0.8104 - accuracy: 0.7020 - val_loss: 0.3337 - val_accuracy: 0.9464\n",
      "Epoch 149/1000\n",
      " 1/37 [..............................] - ETA: 0s - loss: 0.8020 - accuracy: 0.6797\n",
      "Epoch 149: saving model to model/keypoint_classifier/keypoint_classifier.hdf5\n",
      "37/37 [==============================] - 0s 1ms/step - loss: 0.7767 - accuracy: 0.7220 - val_loss: 0.3328 - val_accuracy: 0.9483\n",
      "Epoch 150/1000\n",
      " 1/37 [..............................] - ETA: 0s - loss: 0.9747 - accuracy: 0.6797\n",
      "Epoch 150: saving model to model/keypoint_classifier/keypoint_classifier.hdf5\n",
      "37/37 [==============================] - 0s 980us/step - loss: 0.8056 - accuracy: 0.7109 - val_loss: 0.3437 - val_accuracy: 0.9406\n",
      "Epoch 151/1000\n",
      " 1/37 [..............................] - ETA: 0s - loss: 0.8535 - accuracy: 0.6797\n",
      "Epoch 151: saving model to model/keypoint_classifier/keypoint_classifier.hdf5\n",
      "37/37 [==============================] - 0s 993us/step - loss: 0.7682 - accuracy: 0.7205 - val_loss: 0.3290 - val_accuracy: 0.9425\n",
      "Epoch 152/1000\n",
      " 1/37 [..............................] - ETA: 0s - loss: 0.8092 - accuracy: 0.7578\n",
      "Epoch 152: saving model to model/keypoint_classifier/keypoint_classifier.hdf5\n",
      "37/37 [==============================] - 0s 2ms/step - loss: 0.7899 - accuracy: 0.7160 - val_loss: 0.3387 - val_accuracy: 0.9381\n",
      "Epoch 153/1000\n",
      " 1/37 [..............................] - ETA: 0s - loss: 0.7107 - accuracy: 0.7969\n",
      "Epoch 153: saving model to model/keypoint_classifier/keypoint_classifier.hdf5\n",
      "37/37 [==============================] - 0s 1ms/step - loss: 0.7890 - accuracy: 0.7050 - val_loss: 0.3317 - val_accuracy: 0.9470\n",
      "Epoch 154/1000\n",
      " 1/37 [..............................] - ETA: 0s - loss: 0.7184 - accuracy: 0.7578\n",
      "Epoch 154: saving model to model/keypoint_classifier/keypoint_classifier.hdf5\n",
      "37/37 [==============================] - 0s 1ms/step - loss: 0.7851 - accuracy: 0.7197 - val_loss: 0.3233 - val_accuracy: 0.9483\n",
      "Epoch 155/1000\n",
      " 1/37 [..............................] - ETA: 0s - loss: 0.7964 - accuracy: 0.6875\n",
      "Epoch 155: saving model to model/keypoint_classifier/keypoint_classifier.hdf5\n",
      "37/37 [==============================] - 0s 1ms/step - loss: 0.7775 - accuracy: 0.7188 - val_loss: 0.3289 - val_accuracy: 0.9432\n",
      "Epoch 156/1000\n",
      " 1/37 [..............................] - ETA: 0s - loss: 0.8706 - accuracy: 0.6641\n",
      "Epoch 156: saving model to model/keypoint_classifier/keypoint_classifier.hdf5\n",
      "37/37 [==============================] - 0s 1ms/step - loss: 0.7795 - accuracy: 0.7118 - val_loss: 0.3279 - val_accuracy: 0.9419\n",
      "Epoch 157/1000\n",
      " 1/37 [..............................] - ETA: 0s - loss: 0.9081 - accuracy: 0.6484\n",
      "Epoch 157: saving model to model/keypoint_classifier/keypoint_classifier.hdf5\n",
      "37/37 [==============================] - 0s 1ms/step - loss: 0.7808 - accuracy: 0.7105 - val_loss: 0.3426 - val_accuracy: 0.9381\n",
      "Epoch 158/1000\n",
      " 1/37 [..............................] - ETA: 0s - loss: 0.6903 - accuracy: 0.8203\n",
      "Epoch 158: saving model to model/keypoint_classifier/keypoint_classifier.hdf5\n",
      "37/37 [==============================] - 0s 1ms/step - loss: 0.7850 - accuracy: 0.7222 - val_loss: 0.3299 - val_accuracy: 0.9444\n",
      "Epoch 159/1000\n",
      " 1/37 [..............................] - ETA: 0s - loss: 0.8800 - accuracy: 0.6797\n",
      "Epoch 159: saving model to model/keypoint_classifier/keypoint_classifier.hdf5\n",
      "37/37 [==============================] - 0s 1ms/step - loss: 0.7864 - accuracy: 0.7129 - val_loss: 0.3254 - val_accuracy: 0.9413\n",
      "Epoch 160/1000\n",
      " 1/37 [..............................] - ETA: 0s - loss: 0.7093 - accuracy: 0.7500\n",
      "Epoch 160: saving model to model/keypoint_classifier/keypoint_classifier.hdf5\n",
      "37/37 [==============================] - 0s 1ms/step - loss: 0.7865 - accuracy: 0.7160 - val_loss: 0.3289 - val_accuracy: 0.9464\n",
      "Epoch 161/1000\n",
      " 1/37 [..............................] - ETA: 0s - loss: 0.8871 - accuracy: 0.7031\n",
      "Epoch 161: saving model to model/keypoint_classifier/keypoint_classifier.hdf5\n",
      "37/37 [==============================] - 0s 1ms/step - loss: 0.7773 - accuracy: 0.7199 - val_loss: 0.3295 - val_accuracy: 0.9432\n",
      "Epoch 162/1000\n",
      " 1/37 [..............................] - ETA: 0s - loss: 0.9576 - accuracy: 0.6484\n",
      "Epoch 162: saving model to model/keypoint_classifier/keypoint_classifier.hdf5\n",
      "37/37 [==============================] - 0s 977us/step - loss: 0.7691 - accuracy: 0.7246 - val_loss: 0.3327 - val_accuracy: 0.9444\n",
      "Epoch 163/1000\n",
      " 1/37 [..............................] - ETA: 0s - loss: 0.8101 - accuracy: 0.7500\n",
      "Epoch 163: saving model to model/keypoint_classifier/keypoint_classifier.hdf5\n",
      "37/37 [==============================] - 0s 987us/step - loss: 0.7692 - accuracy: 0.7248 - val_loss: 0.3230 - val_accuracy: 0.9508\n",
      "Epoch 164/1000\n",
      " 1/37 [..............................] - ETA: 0s - loss: 0.7180 - accuracy: 0.7891\n",
      "Epoch 164: saving model to model/keypoint_classifier/keypoint_classifier.hdf5\n",
      "37/37 [==============================] - 0s 1ms/step - loss: 0.8091 - accuracy: 0.7067 - val_loss: 0.3265 - val_accuracy: 0.9483\n",
      "Epoch 165/1000\n",
      " 1/37 [..............................] - ETA: 0s - loss: 0.8450 - accuracy: 0.6875\n",
      "Epoch 165: saving model to model/keypoint_classifier/keypoint_classifier.hdf5\n",
      "37/37 [==============================] - 0s 1ms/step - loss: 0.7649 - accuracy: 0.7246 - val_loss: 0.3235 - val_accuracy: 0.9444\n",
      "Epoch 166/1000\n",
      " 1/37 [..............................] - ETA: 0s - loss: 0.9184 - accuracy: 0.7109\n",
      "Epoch 166: saving model to model/keypoint_classifier/keypoint_classifier.hdf5\n",
      "37/37 [==============================] - 0s 1ms/step - loss: 0.7663 - accuracy: 0.7301 - val_loss: 0.3169 - val_accuracy: 0.9508\n",
      "Epoch 167/1000\n",
      " 1/37 [..............................] - ETA: 0s - loss: 0.7868 - accuracy: 0.7188\n",
      "Epoch 167: saving model to model/keypoint_classifier/keypoint_classifier.hdf5\n",
      "37/37 [==============================] - 0s 982us/step - loss: 0.7867 - accuracy: 0.7186 - val_loss: 0.3218 - val_accuracy: 0.9489\n",
      "Epoch 168/1000\n",
      " 1/37 [..............................] - ETA: 0s - loss: 0.6717 - accuracy: 0.7109\n",
      "Epoch 168: saving model to model/keypoint_classifier/keypoint_classifier.hdf5\n",
      "37/37 [==============================] - 0s 1ms/step - loss: 0.7738 - accuracy: 0.7167 - val_loss: 0.3207 - val_accuracy: 0.9476\n",
      "Epoch 169/1000\n",
      " 1/37 [..............................] - ETA: 0s - loss: 0.8502 - accuracy: 0.6953\n",
      "Epoch 169: saving model to model/keypoint_classifier/keypoint_classifier.hdf5\n",
      "37/37 [==============================] - 0s 2ms/step - loss: 0.7678 - accuracy: 0.7295 - val_loss: 0.3259 - val_accuracy: 0.9476\n",
      "Epoch 170/1000\n",
      " 1/37 [..............................] - ETA: 0s - loss: 0.7154 - accuracy: 0.7734\n",
      "Epoch 170: saving model to model/keypoint_classifier/keypoint_classifier.hdf5\n",
      "37/37 [==============================] - 0s 2ms/step - loss: 0.7444 - accuracy: 0.7292 - val_loss: 0.3192 - val_accuracy: 0.9508\n",
      "Epoch 171/1000\n",
      " 1/37 [..............................] - ETA: 0s - loss: 0.7437 - accuracy: 0.7578\n",
      "Epoch 171: saving model to model/keypoint_classifier/keypoint_classifier.hdf5\n",
      "37/37 [==============================] - 0s 2ms/step - loss: 0.7873 - accuracy: 0.7201 - val_loss: 0.3215 - val_accuracy: 0.9559\n",
      "Epoch 172/1000\n",
      " 1/37 [..............................] - ETA: 0s - loss: 0.7614 - accuracy: 0.7344\n",
      "Epoch 172: saving model to model/keypoint_classifier/keypoint_classifier.hdf5\n",
      "37/37 [==============================] - 0s 2ms/step - loss: 0.7689 - accuracy: 0.7256 - val_loss: 0.3219 - val_accuracy: 0.9470\n",
      "Epoch 173/1000\n",
      "23/37 [=================>............] - ETA: 0s - loss: 0.7963 - accuracy: 0.7184\n",
      "Epoch 173: saving model to model/keypoint_classifier/keypoint_classifier.hdf5\n",
      "37/37 [==============================] - 0s 3ms/step - loss: 0.7845 - accuracy: 0.7186 - val_loss: 0.3260 - val_accuracy: 0.9502\n",
      "Epoch 174/1000\n",
      " 1/37 [..............................] - ETA: 0s - loss: 0.8669 - accuracy: 0.6484\n",
      "Epoch 174: saving model to model/keypoint_classifier/keypoint_classifier.hdf5\n",
      "37/37 [==============================] - 0s 1ms/step - loss: 0.7522 - accuracy: 0.7146 - val_loss: 0.3317 - val_accuracy: 0.9457\n",
      "Epoch 175/1000\n",
      " 1/37 [..............................] - ETA: 0s - loss: 0.7372 - accuracy: 0.7266\n",
      "Epoch 175: saving model to model/keypoint_classifier/keypoint_classifier.hdf5\n",
      "37/37 [==============================] - 0s 1ms/step - loss: 0.7712 - accuracy: 0.7271 - val_loss: 0.3243 - val_accuracy: 0.9496\n",
      "Epoch 176/1000\n",
      " 1/37 [..............................] - ETA: 0s - loss: 0.6837 - accuracy: 0.7656\n",
      "Epoch 176: saving model to model/keypoint_classifier/keypoint_classifier.hdf5\n",
      "37/37 [==============================] - 0s 1ms/step - loss: 0.7548 - accuracy: 0.7297 - val_loss: 0.3205 - val_accuracy: 0.9451\n",
      "Epoch 177/1000\n",
      " 1/37 [..............................] - ETA: 0s - loss: 0.7794 - accuracy: 0.7109\n",
      "Epoch 177: saving model to model/keypoint_classifier/keypoint_classifier.hdf5\n",
      "37/37 [==============================] - 0s 1ms/step - loss: 0.7616 - accuracy: 0.7237 - val_loss: 0.3249 - val_accuracy: 0.9451\n",
      "Epoch 178/1000\n",
      " 1/37 [..............................] - ETA: 0s - loss: 0.8331 - accuracy: 0.7109\n",
      "Epoch 178: saving model to model/keypoint_classifier/keypoint_classifier.hdf5\n",
      "37/37 [==============================] - 0s 1ms/step - loss: 0.7592 - accuracy: 0.7261 - val_loss: 0.3085 - val_accuracy: 0.9489\n",
      "Epoch 179/1000\n",
      " 1/37 [..............................] - ETA: 0s - loss: 0.7711 - accuracy: 0.6953\n",
      "Epoch 179: saving model to model/keypoint_classifier/keypoint_classifier.hdf5\n",
      "37/37 [==============================] - 0s 1ms/step - loss: 0.7705 - accuracy: 0.7178 - val_loss: 0.3163 - val_accuracy: 0.9483\n",
      "Epoch 180/1000\n",
      " 1/37 [..............................] - ETA: 0s - loss: 0.8682 - accuracy: 0.6797\n",
      "Epoch 180: saving model to model/keypoint_classifier/keypoint_classifier.hdf5\n",
      "37/37 [==============================] - 0s 1ms/step - loss: 0.7677 - accuracy: 0.7237 - val_loss: 0.3147 - val_accuracy: 0.9515\n",
      "Epoch 181/1000\n",
      " 1/37 [..............................] - ETA: 0s - loss: 0.8136 - accuracy: 0.7266\n",
      "Epoch 181: saving model to model/keypoint_classifier/keypoint_classifier.hdf5\n",
      "37/37 [==============================] - 0s 1ms/step - loss: 0.7801 - accuracy: 0.7131 - val_loss: 0.3148 - val_accuracy: 0.9515\n",
      "Epoch 182/1000\n",
      " 1/37 [..............................] - ETA: 0s - loss: 0.7357 - accuracy: 0.7344\n",
      "Epoch 182: saving model to model/keypoint_classifier/keypoint_classifier.hdf5\n",
      "37/37 [==============================] - 0s 987us/step - loss: 0.7483 - accuracy: 0.7250 - val_loss: 0.3194 - val_accuracy: 0.9496\n",
      "Epoch 183/1000\n",
      " 1/37 [..............................] - ETA: 0s - loss: 0.7850 - accuracy: 0.7031\n",
      "Epoch 183: saving model to model/keypoint_classifier/keypoint_classifier.hdf5\n",
      "37/37 [==============================] - 0s 1ms/step - loss: 0.7629 - accuracy: 0.7222 - val_loss: 0.3248 - val_accuracy: 0.9464\n",
      "Epoch 184/1000\n",
      " 1/37 [..............................] - ETA: 0s - loss: 0.6989 - accuracy: 0.7188\n",
      "Epoch 184: saving model to model/keypoint_classifier/keypoint_classifier.hdf5\n",
      "37/37 [==============================] - 0s 1ms/step - loss: 0.7847 - accuracy: 0.7163 - val_loss: 0.3155 - val_accuracy: 0.9521\n",
      "Epoch 185/1000\n",
      " 1/37 [..............................] - ETA: 0s - loss: 0.6981 - accuracy: 0.7578\n",
      "Epoch 185: saving model to model/keypoint_classifier/keypoint_classifier.hdf5\n",
      "37/37 [==============================] - 0s 1ms/step - loss: 0.7886 - accuracy: 0.7197 - val_loss: 0.3243 - val_accuracy: 0.9432\n",
      "Epoch 186/1000\n",
      " 1/37 [..............................] - ETA: 0s - loss: 0.7274 - accuracy: 0.7578\n",
      "Epoch 186: saving model to model/keypoint_classifier/keypoint_classifier.hdf5\n",
      "37/37 [==============================] - 0s 1ms/step - loss: 0.7612 - accuracy: 0.7324 - val_loss: 0.3278 - val_accuracy: 0.9444\n",
      "Epoch 187/1000\n",
      " 1/37 [..............................] - ETA: 0s - loss: 0.7641 - accuracy: 0.7188\n",
      "Epoch 187: saving model to model/keypoint_classifier/keypoint_classifier.hdf5\n",
      "37/37 [==============================] - 0s 1ms/step - loss: 0.7548 - accuracy: 0.7286 - val_loss: 0.3164 - val_accuracy: 0.9464\n",
      "Epoch 188/1000\n",
      " 1/37 [..............................] - ETA: 0s - loss: 0.8904 - accuracy: 0.6953\n",
      "Epoch 188: saving model to model/keypoint_classifier/keypoint_classifier.hdf5\n",
      "37/37 [==============================] - 0s 1ms/step - loss: 0.7703 - accuracy: 0.7241 - val_loss: 0.3172 - val_accuracy: 0.9476\n",
      "Epoch 189/1000\n",
      " 1/37 [..............................] - ETA: 0s - loss: 0.7563 - accuracy: 0.7344\n",
      "Epoch 189: saving model to model/keypoint_classifier/keypoint_classifier.hdf5\n",
      "37/37 [==============================] - 0s 1ms/step - loss: 0.7651 - accuracy: 0.7288 - val_loss: 0.3164 - val_accuracy: 0.9508\n",
      "Epoch 190/1000\n",
      " 1/37 [..............................] - ETA: 0s - loss: 0.7678 - accuracy: 0.7500\n",
      "Epoch 190: saving model to model/keypoint_classifier/keypoint_classifier.hdf5\n",
      "37/37 [==============================] - 0s 1000us/step - loss: 0.7546 - accuracy: 0.7280 - val_loss: 0.3173 - val_accuracy: 0.9464\n",
      "Epoch 191/1000\n",
      " 1/37 [..............................] - ETA: 0s - loss: 0.6640 - accuracy: 0.8047\n",
      "Epoch 191: saving model to model/keypoint_classifier/keypoint_classifier.hdf5\n",
      "37/37 [==============================] - 0s 1ms/step - loss: 0.7557 - accuracy: 0.7354 - val_loss: 0.3190 - val_accuracy: 0.9438\n",
      "Epoch 192/1000\n",
      " 1/37 [..............................] - ETA: 0s - loss: 0.8513 - accuracy: 0.7109\n",
      "Epoch 192: saving model to model/keypoint_classifier/keypoint_classifier.hdf5\n",
      "37/37 [==============================] - 0s 2ms/step - loss: 0.7699 - accuracy: 0.7244 - val_loss: 0.3189 - val_accuracy: 0.9502\n",
      "Epoch 193/1000\n",
      " 1/37 [..............................] - ETA: 0s - loss: 0.7957 - accuracy: 0.7266\n",
      "Epoch 193: saving model to model/keypoint_classifier/keypoint_classifier.hdf5\n",
      "37/37 [==============================] - 0s 1ms/step - loss: 0.7729 - accuracy: 0.7233 - val_loss: 0.3163 - val_accuracy: 0.9444\n",
      "Epoch 194/1000\n",
      " 1/37 [..............................] - ETA: 0s - loss: 0.7580 - accuracy: 0.7031\n",
      "Epoch 194: saving model to model/keypoint_classifier/keypoint_classifier.hdf5\n",
      "37/37 [==============================] - 0s 1ms/step - loss: 0.7673 - accuracy: 0.7207 - val_loss: 0.3181 - val_accuracy: 0.9438\n",
      "Epoch 195/1000\n",
      " 1/37 [..............................] - ETA: 0s - loss: 0.8079 - accuracy: 0.7109\n",
      "Epoch 195: saving model to model/keypoint_classifier/keypoint_classifier.hdf5\n",
      "37/37 [==============================] - 0s 1ms/step - loss: 0.7846 - accuracy: 0.7182 - val_loss: 0.3249 - val_accuracy: 0.9457\n",
      "Epoch 196/1000\n",
      " 1/37 [..............................] - ETA: 0s - loss: 0.8087 - accuracy: 0.6953\n",
      "Epoch 196: saving model to model/keypoint_classifier/keypoint_classifier.hdf5\n",
      "37/37 [==============================] - 0s 998us/step - loss: 0.7813 - accuracy: 0.7190 - val_loss: 0.3225 - val_accuracy: 0.9489\n",
      "Epoch 197/1000\n",
      " 1/37 [..............................] - ETA: 0s - loss: 0.7965 - accuracy: 0.6953\n",
      "Epoch 197: saving model to model/keypoint_classifier/keypoint_classifier.hdf5\n",
      "37/37 [==============================] - 0s 1ms/step - loss: 0.7598 - accuracy: 0.7327 - val_loss: 0.3130 - val_accuracy: 0.9515\n",
      "Epoch 198/1000\n",
      " 1/37 [..............................] - ETA: 0s - loss: 0.8261 - accuracy: 0.7266\n",
      "Epoch 198: saving model to model/keypoint_classifier/keypoint_classifier.hdf5\n",
      "37/37 [==============================] - 0s 1ms/step - loss: 0.7575 - accuracy: 0.7229 - val_loss: 0.3120 - val_accuracy: 0.9483\n",
      "Epoch 198: early stopping\n"
     ]
    },
    {
     "data": {
      "text/plain": [
       "<keras.src.callbacks.History at 0x29446cb50>"
      ]
     },
     "execution_count": 87,
     "metadata": {},
     "output_type": "execute_result"
    }
   ],
   "source": [
    "model.fit(\n",
    "    X_train,\n",
    "    y_train,\n",
    "    epochs=1000,\n",
    "    batch_size=128,\n",
    "    validation_data=(X_test, y_test),\n",
    "    callbacks=[cp_callback, es_callback]\n",
    ")"
   ]
  },
  {
   "cell_type": "code",
   "execution_count": 88,
   "metadata": {
    "colab": {
     "base_uri": "https://localhost:8080/"
    },
    "id": "pxvb2Y299hE3",
    "outputId": "59eb3185-2e37-4b9e-bc9d-ab1b8ac29b7f"
   },
   "outputs": [
    {
     "name": "stdout",
     "output_type": "stream",
     "text": [
      "13/13 [==============================] - 0s 606us/step - loss: 0.3120 - accuracy: 0.9483\n"
     ]
    }
   ],
   "source": [
    "# Model evaluation\n",
    "val_loss, val_acc = model.evaluate(X_test, y_test, batch_size=128)"
   ]
  },
  {
   "cell_type": "code",
   "execution_count": 89,
   "metadata": {
    "id": "RBkmDeUW9hE4"
   },
   "outputs": [],
   "source": [
    "# Loading the saved model\n",
    "model = tf.keras.models.load_model(model_save_path)"
   ]
  },
  {
   "cell_type": "code",
   "execution_count": 90,
   "metadata": {
    "colab": {
     "base_uri": "https://localhost:8080/"
    },
    "id": "tFz9Tb0I9hE4",
    "outputId": "1c3b3528-54ae-4ee2-ab04-77429211cbef"
   },
   "outputs": [
    {
     "name": "stdout",
     "output_type": "stream",
     "text": [
      "1/1 [==============================] - 0s 28ms/step\n",
      "[2.8353915e-04 8.9686632e-01 1.0001259e-04 3.3397285e-10 1.4551461e-05\n",
      " 5.8388417e-07 4.0425105e-15 1.0273502e-01 1.9374190e-10]\n",
      "1\n"
     ]
    }
   ],
   "source": [
    "# Inference test\n",
    "predict_result = model.predict(np.array([X_test[0]]))\n",
    "print(np.squeeze(predict_result))\n",
    "print(np.argmax(np.squeeze(predict_result)))"
   ]
  },
  {
   "cell_type": "markdown",
   "metadata": {
    "id": "S3U4yNWx9hE4"
   },
   "source": [
    "# Confusion matrix"
   ]
  },
  {
   "cell_type": "code",
   "execution_count": 91,
   "metadata": {
    "colab": {
     "base_uri": "https://localhost:8080/",
     "height": 582
    },
    "id": "AP1V6SCk9hE5",
    "outputId": "08e41a80-7a4a-4619-8125-ecc371368d19"
   },
   "outputs": [
    {
     "name": "stdout",
     "output_type": "stream",
     "text": [
      "49/49 [==============================] - 0s 331us/step\n"
     ]
    },
    {
     "data": {
      "image/png": "[encoded data removed]",
      "text/plain": [
       "<Figure size 700x600 with 2 Axes>"
      ]
     },
     "metadata": {},
     "output_type": "display_data"
    },
    {
     "name": "stdout",
     "output_type": "stream",
     "text": [
      "Classification Report\n",
      "              precision    recall  f1-score   support\n",
      "\n",
      "           0       0.95      0.97      0.96       435\n",
      "           1       0.94      0.93      0.94       383\n",
      "           2       0.92      0.99      0.95       339\n",
      "           3       0.96      0.88      0.92        74\n",
      "           4       1.00      0.91      0.95        32\n",
      "           5       0.99      0.94      0.97       166\n",
      "           6       0.97      0.97      0.97        35\n",
      "           7       1.00      0.50      0.67        34\n",
      "           8       0.96      1.00      0.98        68\n",
      "\n",
      "    accuracy                           0.95      1566\n",
      "   macro avg       0.97      0.90      0.92      1566\n",
      "weighted avg       0.95      0.95      0.95      1566\n",
      "\n"
     ]
    }
   ],
   "source": [
    "import pandas as pd\n",
    "import seaborn as sns\n",
    "import matplotlib.pyplot as plt\n",
    "from sklearn.metrics import confusion_matrix, classification_report\n",
    "\n",
    "def print_confusion_matrix(y_true, y_pred, report=True):\n",
    "    labels = sorted(list(set(y_true)))\n",
    "    cmx_data = confusion_matrix(y_true, y_pred, labels=labels)\n",
    "    \n",
    "    df_cmx = pd.DataFrame(cmx_data, index=labels, columns=labels)\n",
    " \n",
    "    fig, ax = plt.subplots(figsize=(7, 6))\n",
    "    sns.heatmap(df_cmx, annot=True, fmt='g' ,square=False)\n",
    "    ax.set_ylim(len(set(y_true)), 0)\n",
    "    plt.show()\n",
    "    \n",
    "    if report:\n",
    "        print('Classification Report')\n",
    "        print(classification_report(y_test, y_pred))\n",
    "\n",
    "Y_pred = model.predict(X_test)\n",
    "y_pred = np.argmax(Y_pred, axis=1)\n",
    "\n",
    "print_confusion_matrix(y_test, y_pred)"
   ]
  },
  {
   "cell_type": "markdown",
   "metadata": {
    "id": "FNP6aqzc9hE5"
   },
   "source": [
    "# Convert to model for Tensorflow-Lite"
   ]
  },
  {
   "cell_type": "code",
   "execution_count": 92,
   "metadata": {
    "id": "ODjnYyld9hE6"
   },
   "outputs": [
    {
     "name": "stderr",
     "output_type": "stream",
     "text": [
      "/Users/vamsi/Documents/GitHub/NUS-GAIP-v3/env/lib/python3.11/site-packages/keras/src/engine/training.py:3000: UserWarning: You are saving your model as an HDF5 file via `model.save()`. This file format is considered legacy. We recommend using instead the native Keras format, e.g. `model.save('my_model.keras')`.\n",
      "  saving_api.save_model(\n"
     ]
    }
   ],
   "source": [
    "# Save as a model dedicated to inference\n",
    "model.save(model_save_path, include_optimizer=False)"
   ]
  },
  {
   "cell_type": "code",
   "execution_count": 93,
   "metadata": {
    "colab": {
     "base_uri": "https://localhost:8080/"
    },
    "id": "zRfuK8Y59hE6",
    "outputId": "a4ca585c-b5d5-4244-8291-8674063209bb"
   },
   "outputs": [
    {
     "name": "stdout",
     "output_type": "stream",
     "text": [
      "INFO:tensorflow:Assets written to: /var/folders/xt/ncfs5rvj6cq_5l03rdjg1sk80000gn/T/tmpex0eijgr/assets\n"
     ]
    },
    {
     "name": "stderr",
     "output_type": "stream",
     "text": [
      "INFO:tensorflow:Assets written to: /var/folders/xt/ncfs5rvj6cq_5l03rdjg1sk80000gn/T/tmpex0eijgr/assets\n",
      "2023-07-14 15:41:33.859277: W tensorflow/compiler/mlir/lite/python/tf_tfl_flatbuffer_helpers.cc:364] Ignored output_format.\n",
      "2023-07-14 15:41:33.859588: W tensorflow/compiler/mlir/lite/python/tf_tfl_flatbuffer_helpers.cc:367] Ignored drop_control_dependency.\n",
      "2023-07-14 15:41:33.860150: I tensorflow/cc/saved_model/reader.cc:45] Reading SavedModel from: /var/folders/xt/ncfs5rvj6cq_5l03rdjg1sk80000gn/T/tmpex0eijgr\n",
      "2023-07-14 15:41:33.860776: I tensorflow/cc/saved_model/reader.cc:91] Reading meta graph with tags { serve }\n",
      "2023-07-14 15:41:33.860781: I tensorflow/cc/saved_model/reader.cc:132] Reading SavedModel debug info (if present) from: /var/folders/xt/ncfs5rvj6cq_5l03rdjg1sk80000gn/T/tmpex0eijgr\n",
      "2023-07-14 15:41:33.864384: I tensorflow/cc/saved_model/loader.cc:231] Restoring SavedModel bundle.\n",
      "2023-07-14 15:41:33.896927: I tensorflow/cc/saved_model/loader.cc:215] Running initialization op on SavedModel bundle at path: /var/folders/xt/ncfs5rvj6cq_5l03rdjg1sk80000gn/T/tmpex0eijgr\n",
      "2023-07-14 15:41:33.905288: I tensorflow/cc/saved_model/loader.cc:314] SavedModel load for tags { serve }; Status: success: OK. Took 45138 microseconds.\n"
     ]
    },
    {
     "data": {
      "text/plain": [
       "6828"
      ]
     },
     "execution_count": 93,
     "metadata": {},
     "output_type": "execute_result"
    }
   ],
   "source": [
    "# Transform model (quantization)\n",
    "\n",
    "converter = tf.lite.TFLiteConverter.from_keras_model(model)\n",
    "converter.optimizations = [tf.lite.Optimize.DEFAULT]\n",
    "tflite_quantized_model = converter.convert()\n",
    "\n",
    "open(tflite_save_path, 'wb').write(tflite_quantized_model)"
   ]
  },
  {
   "cell_type": "markdown",
   "metadata": {
    "id": "CHBPBXdx9hE6"
   },
   "source": [
    "# Inference test"
   ]
  },
  {
   "cell_type": "code",
   "execution_count": 94,
   "metadata": {
    "id": "mGAzLocO9hE7"
   },
   "outputs": [],
   "source": [
    "interpreter = tf.lite.Interpreter(model_path=tflite_save_path)\n",
    "interpreter.allocate_tensors()"
   ]
  },
  {
   "cell_type": "code",
   "execution_count": 95,
   "metadata": {
    "id": "oQuDK8YS9hE7"
   },
   "outputs": [],
   "source": [
    "# Get I / O tensor\n",
    "input_details = interpreter.get_input_details()\n",
    "output_details = interpreter.get_output_details()"
   ]
  },
  {
   "cell_type": "code",
   "execution_count": 96,
   "metadata": {
    "id": "2_ixAf_l9hE7"
   },
   "outputs": [],
   "source": [
    "interpreter.set_tensor(input_details[0]['index'], np.array([X_test[0]]))"
   ]
  },
  {
   "cell_type": "code",
   "execution_count": 97,
   "metadata": {
    "colab": {
     "base_uri": "https://localhost:8080/"
    },
    "id": "s4FoAnuc9hE7",
    "outputId": "91f18257-8d8b-4ef3-c558-e9b5f94fabbf",
    "scrolled": true
   },
   "outputs": [
    {
     "name": "stdout",
     "output_type": "stream",
     "text": [
      "CPU times: user 298 µs, sys: 848 µs, total: 1.15 ms\n",
      "Wall time: 687 µs\n"
     ]
    }
   ],
   "source": [
    "%%time\n",
    "# Inference implementation\n",
    "interpreter.invoke()\n",
    "tflite_results = interpreter.get_tensor(output_details[0]['index'])"
   ]
  },
  {
   "cell_type": "code",
   "execution_count": 98,
   "metadata": {
    "colab": {
     "base_uri": "https://localhost:8080/"
    },
    "id": "vONjp19J9hE8",
    "outputId": "77205e24-fd00-42c4-f7b6-e06e527c2cba"
   },
   "outputs": [
    {
     "name": "stdout",
     "output_type": "stream",
     "text": [
      "[2.8353915e-04 8.9686632e-01 1.0001269e-04 3.3397413e-10 1.4551490e-05\n",
      " 5.8388480e-07 4.0425266e-15 1.0273507e-01 1.9374266e-10]\n",
      "1\n"
     ]
    }
   ],
   "source": [
    "print(np.squeeze(tflite_results))\n",
    "print(np.argmax(np.squeeze(tflite_results)))"
   ]
  }
 ],
 "metadata": {
  "accelerator": "GPU",
  "colab": {
   "collapsed_sections": [],
   "name": "keypoint_classification_EN.ipynb",
   "provenance": [],
   "toc_visible": true
  },
  "kernelspec": {
   "display_name": "Python 3 (ipykernel)",
   "language": "python",
   "name": "python3"
  },
  "language_info": {
   "codemirror_mode": {
    "name": "ipython",
    "version": 3
   },
   "file_extension": ".py",
   "mimetype": "text/x-python",
   "name": "python",
   "nbconvert_exporter": "python",
   "pygments_lexer": "ipython3",
   "version": "3.11.4"
  }
 },
 "nbformat": 4,
 "nbformat_minor": 4
}
